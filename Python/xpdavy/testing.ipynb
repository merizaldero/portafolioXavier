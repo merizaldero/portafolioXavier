{
 "cells": [
  {
   "cell_type": "code",
   "execution_count": null,
   "id": "dfb894be",
   "metadata": {},
   "outputs": [],
   "source": [
    "from bs4 import BeautifulSoup\n",
    "import lxml\n",
    "import requests\n",
    "import re"
   ]
  },
  {
   "cell_type": "markdown",
   "id": "eb89a3bf",
   "metadata": {},
   "source": [
    "# Ensayos con SVG y Beutiful Soup"
   ]
  },
  {
   "cell_type": "code",
   "execution_count": null,
   "id": "582df1fb",
   "metadata": {},
   "outputs": [],
   "source": [
    "url = \"https://www.tutorialspoint.com/index.htm\"\n",
    "req = requests.get(url)\n",
    "soup = BeautifulSoup(req.text, \"html.parser\")\n",
    "print(soup.title.string)"
   ]
  },
  {
   "cell_type": "code",
   "execution_count": null,
   "id": "82bb76d1",
   "metadata": {},
   "outputs": [],
   "source": [
    "sopa = None\n",
    "with open(r'art\\fabrica.svg', 'rt') as archivo:\n",
    "    sopa = BeautifulSoup(archivo , 'xml')\n"
   ]
  },
  {
   "cell_type": "code",
   "execution_count": null,
   "id": "e6f76a6d",
   "metadata": {},
   "outputs": [],
   "source": [
    "for grupo in sopa.svg.find('g', id= 'layer2').find_all('g'):\n",
    "    print(grupo['id'])\n",
    "    print(str(grupo))"
   ]
  },
  {
   "cell_type": "markdown",
   "id": "8e15a634",
   "metadata": {},
   "source": [
    "# Inicialización de Datos"
   ]
  },
  {
   "cell_type": "code",
   "execution_count": 1,
   "id": "82a03fc4",
   "metadata": {},
   "outputs": [],
   "source": [
    "import avy\n",
    "import xpd_orm as orm"
   ]
  },
  {
   "cell_type": "code",
   "execution_count": null,
   "id": "831c12ae",
   "metadata": {},
   "outputs": [],
   "source": [
    "avy.inicializar()"
   ]
  },
  {
   "cell_type": "code",
   "execution_count": null,
   "id": "1e21ff17",
   "metadata": {},
   "outputs": [],
   "source": [
    "avy.importar_partes()"
   ]
  },
  {
   "cell_type": "code",
   "execution_count": null,
   "id": "73dbf565",
   "metadata": {},
   "outputs": [],
   "source": [
    "avy.Prendas.getNamedQuerySql('findByParte')"
   ]
  },
  {
   "cell_type": "code",
   "execution_count": null,
   "id": "124cbcf6",
   "metadata": {},
   "outputs": [],
   "source": [
    "avy.PrendasAvatar.getNamedQuerySql('findByAvatar')"
   ]
  },
  {
   "cell_type": "markdown",
   "id": "fd169d19",
   "metadata": {},
   "source": [
    "# Laboratorio de Partes"
   ]
  },
  {
   "cell_type": "code",
   "execution_count": null,
   "id": "0bf1492d",
   "metadata": {},
   "outputs": [],
   "source": [
    "import xpd_orm as orm\n",
    "conexion =  orm.Conexion(avy.PATH_BDD)\n",
    "PARTES = avy.Partes.getNamedQuery(conexion, 'findall',{})\n",
    "conexion.close()\n",
    "print(repr(PARTES))"
   ]
  },
  {
   "cell_type": "code",
   "execution_count": null,
   "id": "34abddfb",
   "metadata": {},
   "outputs": [],
   "source": [
    "# Ingreso manual de PARTES\n",
    "PARTES = [\n",
    "    {'id': 1, 'nombre': 'torso', 'orden_z': 2, 'orden_gui': 10, 'id_parent': None, 'offset_x_min': 0, 'offset_x_max': 1, 'offset_x_steps': 1, 'offset_y_min': 0, 'offset_y_max': 1, 'offset_y_steps': 1, 'scale_min': 1.0, 'scale_max': 1.01, 'scale_steps': 1, 'simetrico_x': '0', 'opcional': '1', 'tiene_color': '0'}, \n",
    "    {'id': 2, 'nombre': 'pantalon', 'orden_z': 1, 'orden_gui': 11, 'id_parent': 1, 'offset_x_min': 0, 'offset_x_max': 1, 'offset_x_steps': 1, 'offset_y_min': 0, 'offset_y_max': 1, 'offset_y_steps': 1, 'scale_min': 1.0, 'scale_max': 1.01, 'scale_steps': 1, 'simetrico_x': '0', 'opcional': '1', 'tiene_color': '0'}, \n",
    "    {'id': 3, 'nombre': 'cara', 'orden_z': 3, 'orden_gui': 1, 'id_parent': 1, 'offset_x_min': 60, 'offset_x_max': 60, 'offset_x_steps': 1, 'offset_y_min': 95, 'offset_y_max': 95, 'offset_y_steps': 1, 'scale_min': 5.0, 'scale_max': 5.0, 'scale_steps': 1, 'simetrico_x': '0', 'opcional': '0', 'tiene_color': '0'}, \n",
    "    {'id': 4, 'nombre': 'pelo', 'orden_z': 10, 'orden_gui': 2, 'id_parent': 3, 'offset_x_min': 0, 'offset_x_max': 0, 'offset_x_steps': 1, 'offset_y_min': 0, 'offset_y_max': 0, 'offset_y_steps': 1, 'scale_min': 5.0, 'scale_max': 5.0, 'scale_steps': 1, 'simetrico_x': '0', 'opcional': '0', 'tiene_color': '1'},\n",
    "    {'id': 5, 'nombre': 'ojo', 'orden_z': 4, 'orden_gui': 3, 'id_parent': 3, 'offset_x_min': 20, 'offset_x_max': 20, 'offset_x_steps': 1, 'offset_y_min': 0, 'offset_y_max': 0, 'offset_y_steps': 1, 'scale_min': 2.0, 'scale_max': 2.0, 'scale_steps': 1, 'simetrico_x': '1', 'opcional': '0', 'tiene_color': '1'}, \n",
    "    {'id': 6, 'nombre': 'ceja', 'orden_z': 6, 'orden_gui': 4, 'id_parent': 3, 'offset_x_min': 20, 'offset_x_max': 20, 'offset_x_steps': 1, 'offset_y_min': -20, 'offset_y_max': -20, 'offset_y_steps': 1, 'scale_min': 2.0, 'scale_max': 2.0, 'scale_steps': 1, 'simetrico_x': '1', 'opcional': '0', 'tiene_color': '1'}, \n",
    "    {'id': 7, 'nombre': 'oreja', 'orden_z': 2, 'orden_gui': 4, 'id_parent': 3, 'offset_x_min': 40, 'offset_x_max': 40, 'offset_x_steps': 1, 'offset_y_min': 0, 'offset_y_max': 0, 'offset_y_steps': 1, 'scale_min': 2.0, 'scale_max': 2.0, 'scale_steps': 1, 'simetrico_x': '1', 'opcional': '0', 'tiene_color': '0'}, \n",
    "    {'id': 8, 'nombre': 'nariz', 'orden_z': 5, 'orden_gui': 5, 'id_parent': 3, 'offset_x_min': 0, 'offset_x_max': 0, 'offset_x_steps': 1, 'offset_y_min': 10, 'offset_y_max': 10, 'offset_y_steps': 1, 'scale_min': 1.5, 'scale_max': 1.5, 'scale_steps': 1, 'simetrico_x': '0', 'opcional': '0', 'tiene_color': '0'}, \n",
    "    {'id': 9, 'nombre': 'boca', 'orden_z': 4, 'orden_gui': 6, 'id_parent': 3, 'offset_x_min': 0, 'offset_x_max': 0, 'offset_x_steps': 1, 'offset_y_min': 40, 'offset_y_max': 40, 'offset_y_steps': 1, 'scale_min': 1.0, 'scale_max': 1.0, 'scale_steps': 1, 'simetrico_x': '0', 'opcional': '0', 'tiene_color': '1'}, \n",
    "    {'id': 10, 'nombre': 'bigote', 'orden_z': 8, 'orden_gui': 7, 'id_parent': 9, 'offset_x_min': 0, 'offset_x_max': 0, 'offset_x_steps': 1, 'offset_y_min': -10, 'offset_y_max': -10, 'offset_y_steps': 1, 'scale_min': 3.0, 'scale_max': 3.0, 'scale_steps': 1, 'simetrico_x': '0', 'opcional': '0', 'tiene_color': '1'}, \n",
    "    {'id': 11, 'nombre': 'barba', 'orden_z': 7, 'orden_gui': 8, 'id_parent': 9, 'offset_x_min': 0, 'offset_x_max': 0, 'offset_x_steps': 1, 'offset_y_min': 0, 'offset_y_max': 0, 'offset_y_steps': 1, 'scale_min': 5.0, 'scale_max': 5.0, 'scale_steps': 1, 'simetrico_x': '0', 'opcional': '0', 'tiene_color': '1'}, \n",
    "    {'id': 12, 'nombre': 'lente', 'orden_z': 9, 'orden_gui': 9, 'id_parent': 8, 'offset_x_min': 0, 'offset_x_max': 0, 'offset_x_steps': 1, 'offset_y_min': -20, 'offset_y_max': -20, 'offset_y_steps': 1, 'scale_min': 3.0, 'scale_max': 3.0, 'scale_steps': 1, 'simetrico_x': '0', 'opcional': '1', 'tiene_color': '1'}, \n",
    "]"
   ]
  },
  {
   "cell_type": "code",
   "execution_count": null,
   "id": "71bcb1f7",
   "metadata": {},
   "outputs": [],
   "source": [
    "# Actualiza las partes desde el arreglo hacia la base de datos\n",
    "\n",
    "conexion =  orm.Conexion(avy.PATH_BDD)\n",
    "try:\n",
    "    for parte in PARTES:\n",
    "        avy.Partes.actualizar(conexion, parte)\n",
    "    conexion.commit()\n",
    "    print(\"Partes Actualizadas en la Base\")\n",
    "except Exception as ex:\n",
    "    conexion.rollback()\n",
    "    print(repr(ex))\n",
    "finally:\n",
    "    conexion.close()\n"
   ]
  },
  {
   "cell_type": "code",
   "execution_count": null,
   "id": "21e2cb6e",
   "metadata": {},
   "outputs": [],
   "source": [
    "# Regenera instrucciones iniciales de INSERT para las partes\n",
    "campos = ['id', 'nombre', 'orden_z', 'orden_gui', 'id_parent', 'offset_x_min', 'offset_x_max', 'offset_x_steps', 'offset_y_min', 'offset_y_max', 'offset_y_steps', 'scale_min', 'scale_max', 'scale_steps', 'simetrico_x', 'opcional', 'tiene_color']\n",
    "campos_texto = ['nombre', 'simetrico_x', 'opcional', 'tiene_color']\n",
    "def valorCampo(parte,campo):\n",
    "    if parte[campo] is None:\n",
    "        return 'NULL'\n",
    "    elif campo in campos_texto:\n",
    "        return \"'{0}'\".format(parte[campo])\n",
    "    else:\n",
    "        return str(parte[campo])\n",
    "for parte in PARTES:\n",
    "    print(\"insert into PARTE ({0}) values ({1});\".format(\", \".join([campo.upper() for campo in campos]),\", \".join([ valorCampo(parte, campo) for campo in campos ]) ) )\n"
   ]
  },
  {
   "cell_type": "markdown",
   "id": "5848bb40",
   "metadata": {},
   "source": [
    "# Despliegue de Aleatorio"
   ]
  },
  {
   "cell_type": "code",
   "execution_count": null,
   "id": "408ca129",
   "metadata": {},
   "outputs": [],
   "source": [
    "# generarPrendasByGenero() Utilizando la funcion de libreria\n",
    "generarPrendasByGenero = avy.generarPrendasByGenero\n",
    "generarSvgAvatar = avy.generarSvgAvatar"
   ]
  },
  {
   "cell_type": "code",
   "execution_count": null,
   "id": "0c33c738",
   "metadata": {},
   "outputs": [],
   "source": [
    "# generarPrendasByGenero() definida manualmente\n",
    "\n",
    "from random import choice\n",
    "\n",
    "def generarPrendasByGenero(conexion, id_genero, verbal = False):\n",
    "    partes = PARTES.copy() # Partes.getNamedQuery(conexion, 'findall',{})\n",
    "    prendas = avy.findPrendasByGenero(conexion, id_genero)\n",
    "    colores_piel = avy.ColoresPiel.getNamedQuery(conexion, 'findall',{})\n",
    "    color_piel = choice(colores_piel)['color']\n",
    "    colores_partes = avy.ColoresParte.getNamedQuery(conexion, 'findall',{})\n",
    "    # campos_prenda_avatar = [ \"id\", \"id_avatar\", \"id_parte\", \"id_prenda\", \"offset_x\", \"offset_y\", \"escala\", \"color\" ]\n",
    "    for parte in partes:\n",
    "        prendas_parte = [ prenda for prenda in prendas if prenda['id_parte'] == parte['id'] ]\n",
    "        colores_parte = [ color['color'] for color in colores_partes if color['id_parte'] == parte['id'] ]\n",
    "        if parte['opcional'] == '1' or len(prendas_parte) == 0:\n",
    "            prendas_parte = [ { \"id_prenda\":None, \"nombre\":None, \"id_parte\":None, \"svg\":None } ] + prendas_parte\n",
    "        prenda = choice(prendas_parte)\n",
    "        parte[\"id_parte\"] = parte[\"id\"]\n",
    "        parte[\"id_prenda\"] = prenda[\"id_prenda\"]\n",
    "        parte[\"svg\"] = prenda[\"svg\"]\n",
    "        parte[\"offset_x\"] = choice( avy.lista_rango( parte['offset_x_min'], parte['offset_x_max'], parte['offset_x_steps'] ))\n",
    "        parte[\"offset_y\"] = choice( avy.lista_rango( parte['offset_y_min'], parte['offset_y_max'], parte['offset_y_steps'] ))\n",
    "        parte[\"escala\"] = choice( avy.lista_rango( parte['scale_min'], parte['scale_max'], parte['scale_steps'] ))\n",
    "        parte[\"color\"] = choice(colores_parte) if len(colores_parte) > 0 else color_piel\n",
    "        if verbal:\n",
    "            print(\"{0} : {1}\".format(parte['nombre'],parte['color'] ))\n",
    "    return {'color_piel': color_piel, 'prendas': partes}\n",
    "            "
   ]
  },
  {
   "cell_type": "code",
   "execution_count": null,
   "id": "b037404f",
   "metadata": {},
   "outputs": [],
   "source": [
    "def ajustarTransformaciones(data):\n",
    "    cola_prendas = [ prenda for prenda in data['prendas'] if prenda['id_parent'] is None ]\n",
    "    while True:\n",
    "        if len(cola_prendas) == 0:\n",
    "            break\n",
    "        parte = cola_prendas.pop(0)\n",
    "        filtro_padres = [x for x in data['prendas'] if x['id_parte'] == parte['id_parent'] ]\n",
    "        if len(filtro_padres) > 0:\n",
    "            padre = filtro_padres[0]\n",
    "            if parte['simetrico_x'] == '1':\n",
    "                parte['offset_xr'] = padre['offset_x'] - parte['offset_x']\n",
    "            else:\n",
    "                parte['offset_xr'] = 0\n",
    "            parte['offset_x'] += padre['offset_x']\n",
    "            parte['offset_y'] += padre['offset_y']\n",
    "        cola_prendas += [ prenda for prenda in data['prendas'] if prenda['id_parent'] == parte['id_parte'] ]\n",
    "    return data['prendas']"
   ]
  },
  {
   "cell_type": "code",
   "execution_count": null,
   "id": "d487d36f",
   "metadata": {},
   "outputs": [],
   "source": [
    "def aplicar_transformaciones(nodo_svg, id, offset_x, offset_y, escala, color, simetrico_x , offset_xr):\n",
    "    if nodo_svg is None:\n",
    "        return ''\n",
    "    print('{0} {1}'.format(offset_x, offset_xr))\n",
    "    resultado = nodo_svg.format( id = id, offset_x = offset_x, offset_y = offset_y , escala = escala, color = color )\n",
    "    if simetrico_x == '1':\n",
    "        resultado += \"\"\"<use xlink:href=\"#{id}\" id=\"m{id}\" transform=\"translate({offset_x} {offset_y}) scale({escala_x} {escala_y})\" />\"\"\".format( id = id, offset_x = offset_xr, offset_y = offset_y - 6, escala_x = -escala, escala_y = escala )\n",
    "    return resultado"
   ]
  },
  {
   "cell_type": "code",
   "execution_count": null,
   "id": "395a088e",
   "metadata": {},
   "outputs": [],
   "source": [
    "def generarSvgAvatar(data):\n",
    "    color_piel = data['color_piel']\n",
    "    prendas = ajustarTransformaciones(data)\n",
    "    resultado = \"\"\"<svg xmlns:dc=\"http://purl.org/dc/elements/1.1/\"\n",
    "   xmlns:cc=\"http://creativecommons.org/ns#\"\n",
    "   xmlns:rdf=\"http://www.w3.org/1999/02/22-rdf-syntax-ns#\"\n",
    "   xmlns:svg=\"http://www.w3.org/2000/svg\"\n",
    "   xmlns=\"http://www.w3.org/2000/svg\"\n",
    "   xmlns:xlink=\"http://www.w3.org/1999/xlink\"\n",
    "   xmlns:sodipodi=\"http://sodipodi.sourceforge.net/DTD/sodipodi-0.dtd\"\n",
    "   xmlns:inkscape=\"http://www.inkscape.org/namespaces/inkscape\" width=\"200\" height=\"200\">\n",
    "\"\"\" + \"\\n\".join( [ aplicar_transformaciones(prenda['svg'], 'g_{1}_{0}'.format(prenda['id'], prenda['nombre']), prenda['offset_x'], prenda['offset_y'], prenda['escala'], prenda['color'], prenda['simetrico_x'], prenda['offset_xr'] if 'offset_xr' in prenda else 0 ) for prenda in prendas ] ) + \"\"\"\n",
    "</svg>\"\"\"\n",
    "    return resultado"
   ]
  },
  {
   "cell_type": "code",
   "execution_count": null,
   "id": "833d5ec3",
   "metadata": {},
   "outputs": [],
   "source": [
    "from IPython.display import display, HTML\n",
    "import xpd_orm as orm\n",
    "\n",
    "conexion =  orm.Conexion(avy.PATH_BDD)\n",
    "# prendas = avy.findPrendasByGenero(conexion, 3)\n",
    "# print(repr(prendas))\n",
    "avatar_aleatorio = generarPrendasByGenero(conexion, 2, verbal = False)\n",
    "# print(repr(avatar_aleatorio))\n",
    "conexion.close()\n",
    "svg = generarSvgAvatar(avatar_aleatorio)\n",
    "display(HTML('<h1>Avatar Aleatorio!</h1><br>'+svg))\n",
    "# print(svg)"
   ]
  },
  {
   "cell_type": "code",
   "execution_count": null,
   "id": "074cb5cf",
   "metadata": {},
   "outputs": [],
   "source": [
    "# Otras consultas"
   ]
  },
  {
   "cell_type": "code",
   "execution_count": null,
   "id": "42d726da",
   "metadata": {},
   "outputs": [],
   "source": [
    "avy.Avatares.getNamedQuerySql('findByUsuario')"
   ]
  },
  {
   "cell_type": "code",
   "execution_count": null,
   "id": "adb6d898",
   "metadata": {},
   "outputs": [],
   "source": [
    "avatar = { \"id_genero\":1, \"id_usuario\":2 }\n",
    "avy.transaccionar(avy.trxCrearAvatar, avatar )\n",
    "avatar"
   ]
  },
  {
   "cell_type": "code",
   "execution_count": null,
   "id": "7de7841b",
   "metadata": {},
   "outputs": [],
   "source": [
    "avatar = { \"id_genero\":1, \"id_usuario\":2 }\n",
    "avy.transaccionar(avy.trxCrearAvatar, avatar )\n",
    "avatar"
   ]
  },
  {
   "cell_type": "code",
   "execution_count": null,
   "id": "a72e9a4e",
   "metadata": {},
   "outputs": [],
   "source": [
    "conexion =  orm.Conexion(avy.PATH_BDD)\n",
    "lista = avy.findAvataresByUsuario(conexion, 2)\n",
    "conexion.close()\n",
    "lista"
   ]
  },
  {
   "cell_type": "code",
   "execution_count": null,
   "id": "5b127de9",
   "metadata": {},
   "outputs": [],
   "source": [
    "avy.PrendasAvatar.getNamedQuerySql('findByAvatar')"
   ]
  },
  {
   "cell_type": "code",
   "execution_count": null,
   "id": "dd19fea2",
   "metadata": {},
   "outputs": [],
   "source": [
    "avy.Prendas.getNamedQuerySql('findByParte')"
   ]
  },
  {
   "cell_type": "code",
   "execution_count": null,
   "id": "a78dc014",
   "metadata": {},
   "outputs": [],
   "source": [
    "avy.Partes.getNamedQuerySql('findall')"
   ]
  },
  {
   "cell_type": "code",
   "execution_count": 2,
   "id": "64a07b55",
   "metadata": {},
   "outputs": [
    {
     "data": {
      "text/plain": [
       "{'id': 1,\n",
       " 'id_usuario': 2,\n",
       " 'id_genero': 2,\n",
       " 'nombre': 'Sin Nombre',\n",
       " 'color_piel': '#582812',\n",
       " 'activo': '1',\n",
       " 'prendas': [{'id': 4,\n",
       "   'id_avatar': 1,\n",
       "   'id_parte': 3,\n",
       "   'id_prenda': 246,\n",
       "   'offset_x': 61,\n",
       "   'offset_y': 96,\n",
       "   'escala': 5.0,\n",
       "   'color': '#582812',\n",
       "   'nombre': 'cara12',\n",
       "   'svg': '<g id=\"{id}\" style=\"display:inline;opacity:0.98\" transform=\"translate({offset_x} {offset_y}) scale({escala})\">\\n<path d=\"m -0.0189238,11.194114 c -2.46688,0.14696 -4.8712,-0.8632 -5.45029,-2.0834597 0,0 -2.61671,-4.604936 -2.69385,-8.73263898 -0.22456,-9.82894202 3.98871,-10.75171232 8.14414,-11.36144932\" id=\"path2020\" sodipodi:nodetypes=\"cccc\" style=\"fill:{color};fill-opacity:1;stroke:#000000;stroke-width:0.260896px;stroke-linecap:butt;stroke-linejoin:miter;stroke-opacity:1\"/>\\n<use height=\"100%\" id=\"use2024\" transform=\"matrix(-1,0,0,1,-0.0378476,0)\" width=\"100%\" x=\"0\" xlink:href=\"#path2020\" y=\"0\"/>\\n</g>',\n",
       "   'orden_gui': 1,\n",
       "   'id_parent': 1,\n",
       "   'simetrico_x': '0',\n",
       "   'opcional': '0',\n",
       "   'tiene_color': '0',\n",
       "   'offset_xr': 0},\n",
       "  {'id': 12,\n",
       "   'id_avatar': 1,\n",
       "   'id_parte': 4,\n",
       "   'id_prenda': 167,\n",
       "   'offset_x': 61,\n",
       "   'offset_y': 96,\n",
       "   'escala': 5.0,\n",
       "   'color': '#080806',\n",
       "   'nombre': 'cabello15',\n",
       "   'svg': '<g id=\"{id}\" transform=\"translate({offset_x} {offset_y}) scale({escala})\">\\n<path d=\"m -8.5328091,-0.40884397 c -0.7783078,0.20477322 -1.5292419,-2.67236203 -1.2398072,-3.15267283 -0.1335821,-0.8547565 0.2529272,-1.277955 0.6398872,-1.7007869 -0.3430159,-0.9942418 0.1055186,-1.0853802 0.2399627,-1.5348485 0.00928,-0.8983866 0.4125709,-1.233395 0.8398958,-1.5348617 0.2024743,-0.788368 0.494136,-1.4611096 1.1198259,-1.7007741 0.3688918,-1.071203 0.8953329,-0.916965 1.3598282,-1.244465 0.5258446,-0.940196 1.0066316,-1.038972 1.479783,-0.995617 0.3247092,-0.869195 0.986005,-0.621224 1.5597838,-0.663715 0.4023769,-0.566405 0.8774505,-0.705537 1.439776,-0.33185 0.499624,-0.565436 1.04777863,-0.275473 1.59979089,0.08306 0.34660835,-0.414852 0.82654701,-0.414813 1.43977611,0 0.5528738,-0.260705 0.9667968,-0.209174 1.1998265,0.248876 0.7909012,-0.311151 1.2882583,-0.04731 1.5997909,0.580751 0.5683835,0.162205 1.2251326,0.141097 1.4397761,1.037073 0.6798544,0.05529 1.2718869,0.247394 1.3198078,1.285972 0.5108254,0.1641695 1.0215846,0.3284445 0.959864,1.4103788 0.4119346,0.4372049 1.0614987,0.5868573 0.8798897,1.7422814 0.1624407,0.1883169 0.3076219,-0.070621 0.5199057,1.4103914 0.360103,0.5647409 0.605766,1.1660368 0.27997,1.9496881 -0.3451106,1.1209262 0.788647,2.084535 -1.3997957,3.40156087 -0.505059,-0.35460914 -0.7981523,-0.85056391 -0.5599129,-1.70078697 -0.1919622,-0.5625005 -0.3329942,-1.1408545 0,-1.8667123 C 7.5631024,-4.0554669 7.7472169,-4.6822071 7.7848776,-5.262212 7.2796994,-5.5293643 7.3142847,-6.0509993 7.3849398,-6.5896276 6.8455077,-6.9145604 6.1660244,-7.003419 6.0251116,-8.0000585 5.6292435,-7.8901316 5.2895814,-8.3633804 4.9452531,-8.7882299 c -0.5182754,0.1469796 -0.9348363,-0.022536 -1.2398204,-0.53927 -0.7028803,0.583411 -1.2534212,0.3240938 -1.7997465,0.041532 -0.4909809,0.6062876 -1.13646219,0.4114851 -1.8397138,-0.08294 -0.54659046,0.8920192 -1.0931677,0.2891904 -1.6397581,0.1659123 -0.487256,0.1260426 -0.278949,0.7630026 -1.9197411,0.041532 -0.2666208,0.7241549 -0.579426,0.5764153 -0.959864,0.3733193 -0.2722015,0.8356798 -0.6657764,0.6015186 -1.0398382,0.5392704 -0.1231495,0.4530585 -0.4953687,0.6477166 -0.8798764,0.8296397 0.1518757,0.1575269 -0.7489454,0.8798864 -0.6399269,0.9126549 0.3364408,0.1010174 -0.1655692,1.2444529 -0.3599308,1.2444529 0.056603,0.5172458 0.1519816,1.0418418 -0.3599572,1.451899 0.2716714,0.6503764 0.2348325,1.271653 -0.080067,1.8666991 0.04865,0.6612382 0.1617117,1.35597841 -0.7198615,1.53483555 z\" id=\"path2669\" sodipodi:nodetypes=\"cccccccccccccccccccccccccccccccccccscccc\" style=\"fill:{color};fill-opacity:1;stroke:#000000;stroke-width:0.34562px;stroke-linecap:butt;stroke-linejoin:miter;stroke-opacity:0.266667\"/>\\n<path d=\"m -8.9527239,-1.3422263 c 0.1999423,0.020702 0.839856,0 0.839856,0\" id=\"path2671\" style=\"fill:none;stroke:#ffffff;stroke-width:0.34562px;stroke-linecap:butt;stroke-linejoin:miter;stroke-opacity:0.266667\"/>\\n<path d=\"M -8.0128635,-2.877088 -9.1327291,-3.229653\" id=\"path2673\" style=\"fill:none;stroke:#ffffff;stroke-width:0.34562px;stroke-linecap:butt;stroke-linejoin:miter;stroke-opacity:0.266667\"/>\\n<path d=\"m -7.8328982,-4.5778618 c -0.459935,-0.1659253 -1.019848,-0.1866398 -1.019848,-0.1866398\" id=\"path2676\" style=\"fill:none;stroke:#ffffff;stroke-width:0.34562px;stroke-linecap:butt;stroke-linejoin:miter;stroke-opacity:0.266667\"/>\\n<path d=\"M -7.5529285,-6.0297476 -8.432818,-6.7971522\" id=\"path2678\" style=\"fill:none;stroke:#ffffff;stroke-width:0.34562px;stroke-linecap:butt;stroke-linejoin:miter;stroke-opacity:0.266667\"/>\\n<path d=\"M -6.7730299,-7.1082754 C -6.9730253,-7.3986316 -7.5129479,-8.705359 -7.5129479,-8.705359\" id=\"path2680\" style=\"fill:none;stroke:#ffffff;stroke-width:0.34562px;stroke-linecap:butt;stroke-linejoin:miter;stroke-opacity:0.266667\"/>\\n<path d=\"m -6.0931489,-8.124581 c -0.040033,-0.8296791 -0.1799655,-2.177835 -0.1799655,-2.177835\" id=\"path2682\" style=\"fill:none;stroke:#ffffff;stroke-width:0.34562px;stroke-linecap:butt;stroke-linejoin:miter;stroke-opacity:0.266667\"/>\\n<path d=\"m -5.0133037,-11.152822 -0.020017,2.1985619\" id=\"path2684\" style=\"fill:none;stroke:#ffffff;stroke-width:0.34562px;stroke-linecap:butt;stroke-linejoin:miter;stroke-opacity:0.266667\"/>\\n<path d=\"m -4.053453,-9.1823946 c 0,-0.1451846 0.4999422,-3.0489684 0.4999422,-3.0489684\" id=\"path2686\" style=\"fill:none;stroke:#ffffff;stroke-width:0.34562px;stroke-linecap:butt;stroke-linejoin:miter;stroke-opacity:0.266667\"/>\\n<path d=\"m -2.5536664,-9.3898008 c 0.080067,-0.165952 0.759895,-3.4638082 0.759895,-3.4638082\" id=\"path2688\" style=\"fill:none;stroke:#ffffff;stroke-width:0.34562px;stroke-linecap:butt;stroke-linejoin:miter;stroke-opacity:0.266667\"/>\\n<path d=\"m -0.85389775,-9.576467 c 0.13998485,-0.2903954 0.29994671,-3.463794 0.29994671,-3.463794\" id=\"path2690\" style=\"fill:none;stroke:#ffffff;stroke-width:0.34562px;stroke-linecap:butt;stroke-linejoin:miter;stroke-opacity:0.266667\"/>\\n<path d=\"M 1.0458133,-9.6179744 C 1.0858463,-9.7631727 1.3058061,-12.87435 1.3058061,-12.87435\" id=\"path2692\" style=\"fill:none;stroke:#ffffff;stroke-width:0.34562px;stroke-linecap:butt;stroke-linejoin:miter;stroke-opacity:0.266667\"/>\\n<path d=\"M 2.8855669,-9.7216652 C 2.9256,-10.136491 2.7056015,-12.625449 2.7056015,-12.625449\" id=\"path2694\" style=\"fill:none;stroke:#ffffff;stroke-width:0.34562px;stroke-linecap:butt;stroke-linejoin:miter;stroke-opacity:0.266667\"/>\\n<path d=\"M 4.5253383,-9.4727762 C 4.5453553,-10.406119 4.0053927,-12.210636 4.0053927,-12.210636\" id=\"path2696\" style=\"fill:none;stroke:#ffffff;stroke-width:0.34562px;stroke-linecap:butt;stroke-linejoin:miter;stroke-opacity:0.266667\"/>\\n<path d=\"m 5.6851712,-8.705359 c -0.020017,-0.7466771 -0.29996,-2.696364 -0.29996,-2.696364\" id=\"path2698\" style=\"fill:none;stroke:#ffffff;stroke-width:0.34562px;stroke-linecap:butt;stroke-linejoin:miter;stroke-opacity:0.266667\"/>\\n<path d=\"M 6.7449996,-7.4401391 7.6048858,-9.2653563\" id=\"path2700\" style=\"fill:none;stroke:#ffffff;stroke-width:0.34562px;stroke-linecap:butt;stroke-linejoin:miter;stroke-opacity:0.266667\"/>\\n<path d=\"M 6.4650565,-8.8712974 6.8249872,-10.406119\" id=\"path2702\" style=\"fill:none;stroke:#ffffff;stroke-width:0.34562px;stroke-linecap:butt;stroke-linejoin:miter;stroke-opacity:0.266667\"/>\\n<path d=\"m 7.8648651,-5.9260182 c 0.259953,-0.5392702 0.9798411,-1.576356 0.9798411,-1.576356\" id=\"path2704\" style=\"fill:none;stroke:#ffffff;stroke-width:0.34562px;stroke-linecap:butt;stroke-linejoin:miter;stroke-opacity:0.266667\"/>\\n<path d=\"m 8.1448083,-4.3497013 c 0.3799476,-0.435554 1.1198656,-1.5555761 1.1198656,-1.5555761\" id=\"path2706\" style=\"fill:none;stroke:#ffffff;stroke-width:0.34562px;stroke-linecap:butt;stroke-linejoin:miter;stroke-opacity:0.266667\"/>\\n<path d=\"m 8.424778,-2.9392706 c 0.1799655,-0.2074329 1.2997912,-1.140802 1.2997912,-1.140802\" id=\"path2708\" style=\"fill:none;stroke:#ffffff;stroke-width:0.34562px;stroke-linecap:butt;stroke-linejoin:miter;stroke-opacity:0.266667\"/>\\n<path d=\"M 8.6647407,-1.3629408 C 9.0046812,-1.4874109 9.5846241,-1.6948045 9.5846241,-1.6948045\" id=\"path2711\" style=\"fill:none;stroke:#ffffff;stroke-width:0.34562px;stroke-linecap:butt;stroke-linejoin:miter;stroke-opacity:0.266667\"/>\\n<path d=\"m -8.9438423,1.5965413 c 1.6249245,3.9659611 2.7991932,7.6846064 4.5054707,8.2933966 l -0.082718,4.5757081 -1.4053632,0.776209 0.7026816,2.614688 c -2.1345569,0.94326 -3.760648,0.809606 -5.1254868,0.122638 0,0 -0.413062,-1.635211 -0.248009,-1.593323 2.2709357,0.576351 1.9265544,-14.5793251 1.6533851,-14.7892606 z\" id=\"path2899\" sodipodi:nodetypes=\"ccccccscc\" style=\"fill:{color};fill-opacity:1;stroke:#000000;stroke-width:0.348692px;stroke-linecap:butt;stroke-linejoin:miter;stroke-opacity:0.266667\"/>\\n<path d=\"m -9.6878697,17.407139 c 1.2859384,0.780743 2.0542113,-11.4515859 1.4880548,-12.0111646 0.6689182,0 1.4048726,12.3380226 0.496005,12.3380226 -0.1653438,0 1.0747019,-0.04088 1.0747019,-0.04088 0.2256593,-2.781333 0.9483709,-5.611798 0.1653307,-8.2934369\" id=\"path2905\" sodipodi:nodetypes=\"ccscc\" style=\"fill:none;stroke:#ffffff;stroke-width:0.348692px;stroke-linecap:butt;stroke-linejoin:miter;stroke-opacity:0.266667\"/>\\n<path d=\"M 9.2062011,1.5148234 C 7.303282,5.3908907 6.3035437,8.6544861 4.7007303,9.8082201 l 0.082718,4.5757079 0.8266795,0.612787 -0.7026815,2.614686 c 2.1345568,0.943261 3.6478911,0.994059 5.0127302,0.307088 0,0 0.1272585,-1.964874 0.033406,-2.105459 C 8.2854428,13.314991 8.2252731,3.6008652 9.2062673,1.5148758 Z\" id=\"path2907\" sodipodi:nodetypes=\"ccccccscc\" style=\"fill:{color};fill-opacity:1;stroke:#000000;stroke-width:0.348692px;stroke-linecap:butt;stroke-linejoin:miter;stroke-opacity:0.266667\"/>\\n<path d=\"M 9.3072128,17.238751 C 8.0212744,18.019493 7.3406909,7.4338004 7.9068473,6.8742218 c -0.6689181,0 -0.8495463,10.7780582 0.059255,10.7780582 0.1653438,0 -1.0747019,-0.04088 -1.0747019,-0.04088 C 6.6657412,14.830065 5.9430296,11.9996 6.7260698,9.3179618\" id=\"path2911\" sodipodi:nodetypes=\"ccscc\" style=\"fill:none;stroke:#ffffff;stroke-width:0.348692px;stroke-linecap:butt;stroke-linejoin:miter;stroke-opacity:0.266667\"/>\\n</g>',\n",
       "   'orden_gui': 2,\n",
       "   'id_parent': 3,\n",
       "   'simetrico_x': '0',\n",
       "   'opcional': '0',\n",
       "   'tiene_color': '1',\n",
       "   'offset_xr': 0},\n",
       "  {'id': 5,\n",
       "   'id_avatar': 1,\n",
       "   'id_parte': 5,\n",
       "   'id_prenda': 80,\n",
       "   'offset_x': 81,\n",
       "   'offset_y': 96,\n",
       "   'escala': 2.0,\n",
       "   'color': '#7085b3',\n",
       "   'nombre': 'ojo7',\n",
       "   'svg': '<g id=\"{id}\" transform=\"translate({offset_x} {offset_y}) scale({escala})\">\\n<path d=\"m -6.4422027,0.95705255 c 0.3317,-2.37198005 1.76146,-3.33217005 3.83659,-3.46260005 l 4.23334,1.27884 c 1.42168,0.66986005 2.29082,1.89226005 2.9683,3.30631 -1.77631,0.50811 -3.1893,0.50755 -4.55580004,0.44193 l -2.86631996,-0.57324 c -1.33806,0.0291 -3.25374,-1.23804995 -3.61611,-0.99123995 z\" id=\"path1688\" sodipodi:nodetypes=\"ccccccc\" style=\"fill:#ffffff;fill-opacity:1;stroke:#000000;stroke-width:0.264583px;stroke-linecap:butt;stroke-linejoin:miter;stroke-opacity:1\"/>\\n<path d=\"m -2.8260927,1.9482925 c -1.60025,-1.97688995 -0.98372,-3.30179 0.22048,-4.45384 2.67214996,-0.11416 3.20367996,0.68908 4.23334,1.27884 0.18137,1.35873005 0.34316,2.71444 -1.58750004,3.74824 -0.80335,-0.0173 -1.50631996,0.0802 -2.86631996,-0.57324 z\" id=\"path1686\" sodipodi:nodetypes=\"ccccc\" style=\"fill:{color};fill-opacity:1;stroke:#000000;stroke-width:0.264583px;stroke-linecap:butt;stroke-linejoin:miter;stroke-opacity:1\"/>\\n<path d=\"m -4.2595027,-3.7201475 c 0.88808,0.0943 2.56229,0.1973 5.88723,2.49344 1.32849,0.72537005 2.38683,1.75092005 2.9683,3.30631 l 0.53009,1.96442\" id=\"path1690\" sodipodi:nodetypes=\"cccc\" style=\"fill:none;stroke:#000000;stroke-width:0.5;stroke-linecap:butt;stroke-linejoin:miter;stroke-miterlimit:4;stroke-dasharray:none;stroke-opacity:1\"/>\\n<path d=\"m 5.7497373,0.67643255 c -0.59261,0.23956 -1.13225,0.32021 -1.55907,0.0624 -0.33215,0.41340995 0.40614,0.87546995 1.90207,1.37196995\" id=\"path1692\" sodipodi:nodetypes=\"ccc\" style=\"fill:none;stroke:#000000;stroke-width:0.264583px;stroke-linecap:butt;stroke-linejoin:miter;stroke-opacity:1\"/>\\n<path d=\"m 6.4980973,3.1085925 c -0.7494,0.003 -1.31182,-0.55469 -1.90207,-1.02899\" id=\"path1694\" sodipodi:nodetypes=\"cc\" style=\"fill:none;stroke:#000000;stroke-width:0.264583px;stroke-linecap:butt;stroke-linejoin:miter;stroke-opacity:1\"/>\\n<path d=\"m 2.8498673,2.4225825 c 0.45478,0.40133 0.74994,0.8462 0.74836,1.372\" id=\"path1696\" sodipodi:nodetypes=\"cc\" style=\"fill:none;stroke:#000000;stroke-width:0.264583px;stroke-linecap:butt;stroke-linejoin:miter;stroke-opacity:1\"/>\\n<path d=\"m 2.0391473,2.5473025 c 0.42688,0.36379 0.58033,0.72757 0.59245,1.09136\" id=\"path1698\" sodipodi:nodetypes=\"cc\" style=\"fill:none;stroke:#000000;stroke-width:0.264583px;stroke-linecap:butt;stroke-linejoin:miter;stroke-opacity:1\"/>\\n<path d=\"m 1.1972473,2.5785025 c 0.27784,0.29849 0.40778,0.56412 0.31182,0.77954\" id=\"path1700\" sodipodi:nodetypes=\"cc\" style=\"fill:none;stroke:#000000;stroke-width:0.264583px;stroke-linecap:butt;stroke-linejoin:miter;stroke-opacity:1\"/>\\n</g>',\n",
       "   'orden_gui': 3,\n",
       "   'id_parent': 3,\n",
       "   'simetrico_x': '1',\n",
       "   'opcional': '0',\n",
       "   'tiene_color': '1',\n",
       "   'offset_xr': 41},\n",
       "  {'id': 8,\n",
       "   'id_avatar': 1,\n",
       "   'id_parte': 6,\n",
       "   'id_prenda': 105,\n",
       "   'offset_x': 81,\n",
       "   'offset_y': 76,\n",
       "   'escala': 2.0,\n",
       "   'color': '#504543',\n",
       "   'nombre': 'ceja3',\n",
       "   'svg': '<g id=\"{id}\" transform=\"translate({offset_x} {offset_y}) scale({escala})\">\\n<path d=\"m 7.4472129,0.948517 c -1.1274,-1.49565 -1.98922,-3.10195 -5.84288,-3.46165 -2.18925998,0.14519 -4.64517,0.73835 -8.29027,3.32936 l -0.79375,-0.11025 c 0.55998,1.67213 1.71854,2.11989 3.57187,1.14652 1.30047,-0.84091 2.37408,-1.69747 5.31372,-2.42533 2.669,-0.57208 4.34612,0.48952 6.04131,1.52135 z\" id=\"path2326\" sodipodi:nodetypes=\"ccccccc\" style=\"fill:{color};fill-opacity:1;stroke:#000000;stroke-width:0.264583px;stroke-linecap:butt;stroke-linejoin:miter;stroke-opacity:1\"/>\\n<path d=\"m -4.4590371,1.896597 c -1.08058,0.0627 -1.85163,-0.26146 -2.2269,-1.08037\" id=\"path2328\" sodipodi:nodetypes=\"cc\" style=\"fill:none;stroke:#fefefe;stroke-width:0.264583px;stroke-linecap:butt;stroke-linejoin:miter;stroke-opacity:0.133333\"/>\\n<path d=\"m -3.8637171,1.323327 c -0.66016,0.45313 -2.23491,-0.58669 -1.94028,-0.90398\" id=\"path2330\" sodipodi:nodetypes=\"cc\" style=\"fill:none;stroke:#fefefe;stroke-width:0.264583px;stroke-linecap:butt;stroke-linejoin:miter;stroke-opacity:0.133333\"/>\\n<path d=\"m -3.1581671,0.904407 c -0.68398,-0.29266 -0.9507,-0.82375 -1.23472,-1.34495\" id=\"path2332\" sodipodi:nodetypes=\"cc\" style=\"fill:none;stroke:#fefefe;stroke-width:0.264583px;stroke-linecap:butt;stroke-linejoin:miter;stroke-opacity:0.133333\"/>\\n<path d=\"m -2.1659771,0.441387 c -0.0283,-0.47024 -0.0602,-0.93615 0.48507,-2.09462\" id=\"path2334\" sodipodi:nodetypes=\"cc\" style=\"fill:none;stroke:#fefefe;stroke-width:0.264583px;stroke-linecap:butt;stroke-linejoin:miter;stroke-opacity:0.133333\"/>\\n<path d=\"M -1.3060771,4.0699711e-4 C -1.5331071,-0.367793 0.03364292,-2.048223 0.21527292,-2.028043\" id=\"path2336\" sodipodi:nodetypes=\"cc\" style=\"fill:none;stroke:#fefefe;stroke-width:0.264583px;stroke-linecap:butt;stroke-linejoin:miter;stroke-opacity:0.133333\"/>\\n<path d=\"m -0.20364708,-0.374403 c 0.59442,-0.77282 1.33990998,-1.35682 2.40329998,-1.54342\" id=\"path2338\" sodipodi:nodetypes=\"cc\" style=\"fill:none;stroke:#fefefe;stroke-width:0.264583px;stroke-linecap:butt;stroke-linejoin:miter;stroke-opacity:0.133333\"/>\\n<path d=\"m 2.2878429,-1.013813 c 0.11576,-0.42988 2.50064,-0.7013 2.46945,-0.26459\" id=\"path2340\" sodipodi:nodetypes=\"cc\" style=\"fill:none;stroke:#fefefe;stroke-width:0.264583px;stroke-linecap:butt;stroke-linejoin:miter;stroke-opacity:0.133333\"/>\\n</g>',\n",
       "   'orden_gui': 4,\n",
       "   'id_parent': 3,\n",
       "   'simetrico_x': '1',\n",
       "   'opcional': '0',\n",
       "   'tiene_color': '1',\n",
       "   'offset_xr': 41},\n",
       "  {'id': 3,\n",
       "   'id_avatar': 1,\n",
       "   'id_parte': 7,\n",
       "   'id_prenda': 61,\n",
       "   'offset_x': 101,\n",
       "   'offset_y': 96,\n",
       "   'escala': 2.0,\n",
       "   'color': '#582812',\n",
       "   'nombre': 'oreja3',\n",
       "   'svg': '<g id=\"{id}\" transform=\"translate({offset_x} {offset_y}) scale({escala})\">\\n<path d=\"M 0.13255197,0.97062141 C 0.92934197,-3.4702086 3.956802,-8.9679886 6.368842,-7.9472986 c 2.08809,3.01421 -0.53911,6.02843 -0.87308,9.04264 -0.82345,2.41744 -1.21695,6.26801 -2.49452,7.17172 -2.07085003,-0.25116 -2.78906003,-3.69384 -2.86869003,-7.29643999 z\" id=\"path1337\" sodipodi:nodetypes=\"ccccc\" style=\"fill:{color};fill-opacity:1;stroke:#000000;stroke-width:0.264583px;stroke-linecap:butt;stroke-linejoin:miter;stroke-opacity:1\"/>\\n<path d=\"m 2.876522,5.0241914 -0.24945,-1.62142\" id=\"path1339\" style=\"fill:none;stroke:#000000;stroke-width:0.264583px;stroke-linecap:butt;stroke-linejoin:miter;stroke-opacity:1\"/>\\n<path d=\"m 3.063612,2.0307814 c 2.27153,-5.36125 -0.90569,-3.30594 -0.4989,-2.74396999 0.9788,-4.79003001 2.31799,-5.07515001 3.61704,-5.86211001\" id=\"path1341\" sodipodi:nodetypes=\"ccc\" style=\"fill:none;stroke:#000000;stroke-width:0.264583px;stroke-linecap:butt;stroke-linejoin:miter;stroke-opacity:1\"/>\\n<path d=\"m 3.959912,2.4174914 c 0.81336,-2.41514999 1.0557,-4.73512 0.11025,-6.85713\" id=\"path1343\" sodipodi:nodetypes=\"cc\" style=\"fill:none;stroke:#000000;stroke-width:0.264583px;stroke-linecap:butt;stroke-linejoin:miter;stroke-opacity:1\"/>\\n</g>',\n",
       "   'orden_gui': 4,\n",
       "   'id_parent': 3,\n",
       "   'simetrico_x': '1',\n",
       "   'opcional': '0',\n",
       "   'tiene_color': '0',\n",
       "   'offset_xr': 21},\n",
       "  {'id': 7,\n",
       "   'id_avatar': 1,\n",
       "   'id_parte': 8,\n",
       "   'id_prenda': 3,\n",
       "   'offset_x': 61,\n",
       "   'offset_y': 106,\n",
       "   'escala': 1.5,\n",
       "   'color': '#582812',\n",
       "   'nombre': 'nariz3',\n",
       "   'svg': '<g id=\"{id}\" transform=\"translate({offset_x} {offset_y}) scale({escala})\">\\n<path d=\"m -1.9029792,-11.14369 -0.93544,14.2655112\" id=\"path2206\" style=\"fill:none;stroke:#000000;stroke-width:0.264583px;stroke-linecap:butt;stroke-linejoin:miter;stroke-opacity:1\"/>\\n<path d=\"M 1.4646206,-10.067929 2.8677905,3.7298609\" id=\"path2208\" style=\"fill:none;stroke:#000000;stroke-width:0.264583px;stroke-linecap:butt;stroke-linejoin:miter;stroke-opacity:1\"/>\\n<path d=\"m -2.6513292,8.0329009 c -4.0513,1.5781192 -2.54674,-4.4645599 -0.5145,-5.89329\" id=\"path2210\" sodipodi:nodetypes=\"cc\" style=\"fill:none;stroke:#000000;stroke-width:0.264583px;stroke-linecap:butt;stroke-linejoin:miter;stroke-opacity:1\"/>\\n<path d=\"m 3.4758205,8.2667607 c 3.37053,-0.0896 0.25181,-5.3708196 -0.37417,-5.9868397\" id=\"path2212\" sodipodi:nodetypes=\"cc\" style=\"fill:none;stroke:#000000;stroke-width:0.264583px;stroke-linecap:butt;stroke-linejoin:miter;stroke-opacity:1\"/>\\n<path d=\"m -3.7738592,6.9103709 c 2.4482299,1.4137298 2.16769,4.0236781 3.97562986,4.2562581 C 2.3692805,10.478279 1.9467406,7.9267909 3.7564505,6.7232809\" id=\"path2214\" sodipodi:nodetypes=\"ccc\" style=\"fill:none;stroke:#000000;stroke-width:0.264583px;stroke-linecap:butt;stroke-linejoin:miter;stroke-opacity:1\"/>\\n<path d=\"M 0.43563066,-9.3663488 1.3710706,1.5315709 c 0,0 -1.54347994,-4.6304498 -1.44992994,-4.8643098 0.0935,-0.23386 0.51449,-6.0336099 0.51449,-6.0336099 z\" id=\"path2216\" style=\"fill:#fefefe;fill-opacity:0.533333;stroke:none;stroke-width:0.264583px;stroke-linecap:butt;stroke-linejoin:miter;stroke-opacity:1\"/>\\n<path d=\"m 1.3243006,4.3846709 c -0.26937,-0.098 -0.62848998,0.0942 -0.79511994,0.32741 -0.29964,0.41939 -0.0292,1.0320801 -0.0936,1.54348 -0.0516,0.40955 -0.35494,0.82144 -0.23386,1.21607 0.0647,0.21079 0.24738,0.47577 0.46771996,0.46772 C 1.1223406,7.9227509 1.3625706,7.319221 1.5581106,6.910371 c 0.22562,-0.47175 0.3594599,-1.02653 0.28064,-1.54349 -0.0557,-0.36537 -0.1671201,-0.85588 -0.51445,-0.9822101 z\" id=\"path2218\" sodipodi:nodetypes=\"aaaaaaaa\" style=\"fill:#fefefe;fill-opacity:0.533333;stroke:none;stroke-width:0.264583px;stroke-linecap:butt;stroke-linejoin:miter;stroke-opacity:1\"/>\\n</g>',\n",
       "   'orden_gui': 5,\n",
       "   'id_parent': 3,\n",
       "   'simetrico_x': '0',\n",
       "   'opcional': '0',\n",
       "   'tiene_color': '0',\n",
       "   'offset_xr': 0},\n",
       "  {'id': 6,\n",
       "   'id_avatar': 1,\n",
       "   'id_parte': 9,\n",
       "   'id_prenda': 50,\n",
       "   'offset_x': 61,\n",
       "   'offset_y': 136,\n",
       "   'escala': 1.0,\n",
       "   'color': '#e2929b',\n",
       "   'nombre': 'boca10',\n",
       "   'svg': '<g id=\"{id}\" transform=\"translate({offset_x} {offset_y}) scale({escala})\">\\n<path d=\"m -7.1197659,-1.2334032 c 0,0 2.1436,-1.9857 2.45229,-2.16207 0.30869,-0.1764 1.5875,-0.83786 1.5875,-0.83786 l 1.27881,0.39688 c 0,0 1.32292002,0.52916 1.49932002,0.48506 0.1764,-0.0441 2.20484998,-0.70554 2.20484998,-0.70554 l 1.45521,0.17637 1.49931,1.10244 2.04566,1.41243 -0.28176,3.12959 -1.05833,1.67569 c 0,0 -1.63161,0.70556 -1.80801,0.57327 -0.17637,-0.13229 -2.51354,-0.79375 -2.51354,-0.79375 l -2.33714,-0.0882 c 0,0 -2.20485,0.44098 -2.38125,0.44098 -0.1764,0 -1.89619,-0.44098 -1.89619,-0.44098 l -1.10241,-2.02846 z\" id=\"path1677\" style=\"fill:{color};fill-opacity:1;stroke:none;stroke-width:0.264583px;stroke-linecap:butt;stroke-linejoin:miter;stroke-opacity:1\"/>\\n<path d=\"m -8.6631859,-2.1594632 1.54342,0.92606 3.21913,0.74964 3.96871002,0.26457 2.64584998,2e-5 2.02846,-0.39689 2.16079,-0.74965 1.71977,-0.79375\" id=\"path1657\" sodipodi:nodetypes=\"cccccccc\" style=\"fill:none;stroke:#000000;stroke-width:0.264583px;stroke-linecap:butt;stroke-linejoin:miter;stroke-opacity:1\"/>\\n<path d=\"m 3.2700241,-2.0284832 c -1.14653,0.85454 -2.29304998,1.46819 -3.43957998,0.92605\" id=\"path1679\" sodipodi:nodetypes=\"cc\" style=\"fill:none;stroke:#fefefe;stroke-width:0.264583px;stroke-linecap:butt;stroke-linejoin:miter;stroke-opacity:0.533333\"/>\\n</g>',\n",
       "   'orden_gui': 6,\n",
       "   'id_parent': 3,\n",
       "   'simetrico_x': '0',\n",
       "   'opcional': '0',\n",
       "   'tiene_color': '1',\n",
       "   'offset_xr': 0},\n",
       "  {'id': 10,\n",
       "   'id_avatar': 1,\n",
       "   'id_parte': 10,\n",
       "   'id_prenda': None,\n",
       "   'offset_x': 61,\n",
       "   'offset_y': 126,\n",
       "   'escala': 3.0,\n",
       "   'color': '#f6e4e2',\n",
       "   'nombre': None,\n",
       "   'svg': None,\n",
       "   'orden_gui': 7,\n",
       "   'id_parent': 9,\n",
       "   'simetrico_x': '0',\n",
       "   'opcional': '0',\n",
       "   'tiene_color': '1',\n",
       "   'offset_xr': 0},\n",
       "  {'id': 9,\n",
       "   'id_avatar': 1,\n",
       "   'id_parte': 11,\n",
       "   'id_prenda': None,\n",
       "   'offset_x': 61,\n",
       "   'offset_y': 136,\n",
       "   'escala': 5.0,\n",
       "   'color': '#decfbc',\n",
       "   'nombre': None,\n",
       "   'svg': None,\n",
       "   'orden_gui': 8,\n",
       "   'id_parent': 9,\n",
       "   'simetrico_x': '0',\n",
       "   'opcional': '0',\n",
       "   'tiene_color': '1',\n",
       "   'offset_xr': 0},\n",
       "  {'id': 11,\n",
       "   'id_avatar': 1,\n",
       "   'id_parte': 12,\n",
       "   'id_prenda': 151,\n",
       "   'offset_x': 61,\n",
       "   'offset_y': 86,\n",
       "   'escala': 3.0,\n",
       "   'color': '#97cf10',\n",
       "   'nombre': 'lente10',\n",
       "   'svg': '<g id=\"{id}\" transform=\"translate({offset_x} {offset_y}) scale({escala})\">\\n<path d=\"m -11.948629,-1.0645369 c -0.41596,-2.49395 0.65394,-3.08599 2.3074299,-2.93105 l 6.17393,-0.0624 c 0.96033,-0.13177 1.86341,-0.0202 2.49450995,1.24725 0.22485,1.4065 -0.12226995,2.60501005 -0.81071995,3.67940005 -0.8366,1.63329995 -1.78922,3.13837995 -4.17831,3.05577995 -2.23967,-0.34451 -5.4731999,0.91644 -5.7373899,-2.61924 z\" id=\"path2054\" sodipodi:nodetypes=\"cccccccc\" style=\"fill:{color};fill-opacity:1;stroke:#000000;stroke-width:0.79375;stroke-linecap:butt;stroke-linejoin:miter;stroke-miterlimit:4;stroke-dasharray:none;stroke-opacity:1\"/>\\n<path d=\"M 12.154631,-0.97093685 C 12.570591,-3.4648869 11.500691,-4.0569269 9.8472009,-3.9019869 l -6.17393,-0.0624 c -0.96033,-0.13177 -1.86341,-0.0202 -2.49451,1.24725 -0.22485005,1.4065 0.12227,2.60501005 0.81072,3.67940005 0.8366,1.63329995 1.78922,3.13837995 4.17831,3.05577995 2.23967,-0.34451 5.4732001,0.91644 5.7373901,-2.61924 z\" id=\"path2060\" sodipodi:nodetypes=\"cccccccc\" style=\"fill:{color};fill-opacity:1;stroke:#000000;stroke-width:0.79375;stroke-linecap:butt;stroke-linejoin:miter;stroke-miterlimit:4;stroke-dasharray:none;stroke-opacity:1\"/>\\n<path d=\"m -0.97275915,-2.8107369 2.15152005,0.0936\" id=\"path2067\" style=\"fill:none;stroke:#000000;stroke-width:2.38125;stroke-linecap:butt;stroke-linejoin:miter;stroke-miterlimit:4;stroke-dasharray:none;stroke-opacity:1\"/>\\n</g>',\n",
       "   'orden_gui': 9,\n",
       "   'id_parent': 8,\n",
       "   'simetrico_x': '0',\n",
       "   'opcional': '1',\n",
       "   'tiene_color': '1',\n",
       "   'offset_xr': 0},\n",
       "  {'id': 2,\n",
       "   'id_avatar': 1,\n",
       "   'id_parte': 1,\n",
       "   'id_prenda': None,\n",
       "   'offset_x': 1,\n",
       "   'offset_y': 1,\n",
       "   'escala': 1.01,\n",
       "   'color': '#582812',\n",
       "   'nombre': None,\n",
       "   'svg': None,\n",
       "   'orden_gui': 10,\n",
       "   'id_parent': None,\n",
       "   'simetrico_x': '0',\n",
       "   'opcional': '1',\n",
       "   'tiene_color': '0'},\n",
       "  {'id': 1,\n",
       "   'id_avatar': 1,\n",
       "   'id_parte': 2,\n",
       "   'id_prenda': None,\n",
       "   'offset_x': 2,\n",
       "   'offset_y': 2,\n",
       "   'escala': 1.01,\n",
       "   'color': '#582812',\n",
       "   'nombre': None,\n",
       "   'svg': None,\n",
       "   'orden_gui': 11,\n",
       "   'id_parent': 1,\n",
       "   'simetrico_x': '0',\n",
       "   'opcional': '1',\n",
       "   'tiene_color': '0',\n",
       "   'offset_xr': 0}]}"
      ]
     },
     "execution_count": 2,
     "metadata": {},
     "output_type": "execute_result"
    }
   ],
   "source": [
    "avatar = avy.findAvatarById(1)\n",
    "svg = avy.generarSvgAvatar(avatar)\n",
    "avatar"
   ]
  },
  {
   "cell_type": "code",
   "execution_count": null,
   "id": "a66e4351",
   "metadata": {},
   "outputs": [],
   "source": []
  }
 ],
 "metadata": {
  "kernelspec": {
   "display_name": "Python 3 (ipykernel)",
   "language": "python",
   "name": "python3"
  },
  "language_info": {
   "codemirror_mode": {
    "name": "ipython",
    "version": 3
   },
   "file_extension": ".py",
   "mimetype": "text/x-python",
   "name": "python",
   "nbconvert_exporter": "python",
   "pygments_lexer": "ipython3",
   "version": "3.10.2"
  }
 },
 "nbformat": 4,
 "nbformat_minor": 5
}
