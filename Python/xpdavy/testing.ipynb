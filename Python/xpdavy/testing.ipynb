{
 "cells": [
  {
   "cell_type": "code",
   "execution_count": null,
   "id": "dfb894be",
   "metadata": {},
   "outputs": [],
   "source": [
    "from bs4 import BeautifulSoup\n",
    "import lxml\n",
    "import requests\n",
    "import re"
   ]
  },
  {
   "cell_type": "markdown",
   "id": "eb89a3bf",
   "metadata": {},
   "source": [
    "# Ensayos con SVG y Beutiful Soup"
   ]
  },
  {
   "cell_type": "code",
   "execution_count": null,
   "id": "582df1fb",
   "metadata": {},
   "outputs": [],
   "source": [
    "url = \"https://www.tutorialspoint.com/index.htm\"\n",
    "req = requests.get(url)\n",
    "soup = BeautifulSoup(req.text, \"html.parser\")\n",
    "print(soup.title.string)"
   ]
  },
  {
   "cell_type": "code",
   "execution_count": null,
   "id": "82bb76d1",
   "metadata": {},
   "outputs": [],
   "source": [
    "sopa = None\n",
    "with open(r'art\\fabrica.svg', 'rt') as archivo:\n",
    "    sopa = BeautifulSoup(archivo , 'xml')\n"
   ]
  },
  {
   "cell_type": "code",
   "execution_count": null,
   "id": "e6f76a6d",
   "metadata": {},
   "outputs": [],
   "source": [
    "for grupo in sopa.svg.find('g', id= 'layer2').find_all('g'):\n",
    "    print(grupo['id'])\n",
    "    print(str(grupo))"
   ]
  },
  {
   "cell_type": "markdown",
   "id": "8e15a634",
   "metadata": {},
   "source": [
    "# Inicialización de Datos"
   ]
  },
  {
   "cell_type": "code",
   "execution_count": 1,
   "id": "82a03fc4",
   "metadata": {},
   "outputs": [],
   "source": [
    "import avy\n",
    "import xpd_orm as orm"
   ]
  },
  {
   "cell_type": "code",
   "execution_count": null,
   "id": "831c12ae",
   "metadata": {},
   "outputs": [],
   "source": [
    "avy.inicializar()"
   ]
  },
  {
   "cell_type": "code",
   "execution_count": null,
   "id": "1e21ff17",
   "metadata": {},
   "outputs": [],
   "source": [
    "avy.importar_partes()"
   ]
  },
  {
   "cell_type": "code",
   "execution_count": null,
   "id": "73dbf565",
   "metadata": {},
   "outputs": [],
   "source": [
    "avy.Prendas.getNamedQuerySql('findByParte')"
   ]
  },
  {
   "cell_type": "code",
   "execution_count": null,
   "id": "124cbcf6",
   "metadata": {},
   "outputs": [],
   "source": [
    "avy.PrendasAvatar.getNamedQuerySql('findByAvatar')"
   ]
  },
  {
   "cell_type": "markdown",
   "id": "fd169d19",
   "metadata": {},
   "source": [
    "# Laboratorio de Partes"
   ]
  },
  {
   "cell_type": "code",
   "execution_count": null,
   "id": "0bf1492d",
   "metadata": {},
   "outputs": [],
   "source": [
    "import xpd_orm as orm\n",
    "conexion =  orm.Conexion(avy.PATH_BDD)\n",
    "PARTES = avy.Partes.getNamedQuery(conexion, 'findall',{})\n",
    "conexion.close()\n",
    "print(repr(PARTES))"
   ]
  },
  {
   "cell_type": "code",
   "execution_count": null,
   "id": "34abddfb",
   "metadata": {},
   "outputs": [],
   "source": [
    "# Ingreso manual de PARTES\n",
    "PARTES = [\n",
    "    {'id': 1, 'nombre': 'torso', 'orden_z': 2, 'orden_gui': 10, 'id_parent': None, 'offset_x_min': 0, 'offset_x_max': 1, 'offset_x_steps': 1, 'offset_y_min': 0, 'offset_y_max': 1, 'offset_y_steps': 1, 'scale_min': 1.0, 'scale_max': 1.01, 'scale_steps': 1, 'simetrico_x': '0', 'opcional': '1', 'tiene_color': '0'}, \n",
    "    {'id': 2, 'nombre': 'pantalon', 'orden_z': 1, 'orden_gui': 11, 'id_parent': 1, 'offset_x_min': 0, 'offset_x_max': 1, 'offset_x_steps': 1, 'offset_y_min': 0, 'offset_y_max': 1, 'offset_y_steps': 1, 'scale_min': 1.0, 'scale_max': 1.01, 'scale_steps': 1, 'simetrico_x': '0', 'opcional': '1', 'tiene_color': '0'}, \n",
    "    {'id': 3, 'nombre': 'cara', 'orden_z': 3, 'orden_gui': 1, 'id_parent': 1, 'offset_x_min': 60, 'offset_x_max': 60, 'offset_x_steps': 1, 'offset_y_min': 95, 'offset_y_max': 95, 'offset_y_steps': 1, 'scale_min': 5.0, 'scale_max': 5.0, 'scale_steps': 1, 'simetrico_x': '0', 'opcional': '0', 'tiene_color': '0'}, \n",
    "    {'id': 4, 'nombre': 'pelo', 'orden_z': 10, 'orden_gui': 2, 'id_parent': 3, 'offset_x_min': 0, 'offset_x_max': 0, 'offset_x_steps': 1, 'offset_y_min': 0, 'offset_y_max': 0, 'offset_y_steps': 1, 'scale_min': 5.0, 'scale_max': 5.0, 'scale_steps': 1, 'simetrico_x': '0', 'opcional': '0', 'tiene_color': '1'},\n",
    "    {'id': 5, 'nombre': 'ojo', 'orden_z': 4, 'orden_gui': 3, 'id_parent': 3, 'offset_x_min': 20, 'offset_x_max': 20, 'offset_x_steps': 1, 'offset_y_min': 0, 'offset_y_max': 0, 'offset_y_steps': 1, 'scale_min': 2.0, 'scale_max': 2.0, 'scale_steps': 1, 'simetrico_x': '1', 'opcional': '0', 'tiene_color': '1'}, \n",
    "    {'id': 6, 'nombre': 'ceja', 'orden_z': 6, 'orden_gui': 4, 'id_parent': 3, 'offset_x_min': 20, 'offset_x_max': 20, 'offset_x_steps': 1, 'offset_y_min': -20, 'offset_y_max': -20, 'offset_y_steps': 1, 'scale_min': 2.0, 'scale_max': 2.0, 'scale_steps': 1, 'simetrico_x': '1', 'opcional': '0', 'tiene_color': '1'}, \n",
    "    {'id': 7, 'nombre': 'oreja', 'orden_z': 2, 'orden_gui': 4, 'id_parent': 3, 'offset_x_min': 40, 'offset_x_max': 40, 'offset_x_steps': 1, 'offset_y_min': 0, 'offset_y_max': 0, 'offset_y_steps': 1, 'scale_min': 2.0, 'scale_max': 2.0, 'scale_steps': 1, 'simetrico_x': '1', 'opcional': '0', 'tiene_color': '0'}, \n",
    "    {'id': 8, 'nombre': 'nariz', 'orden_z': 5, 'orden_gui': 5, 'id_parent': 3, 'offset_x_min': 0, 'offset_x_max': 0, 'offset_x_steps': 1, 'offset_y_min': 10, 'offset_y_max': 10, 'offset_y_steps': 1, 'scale_min': 1.5, 'scale_max': 1.5, 'scale_steps': 1, 'simetrico_x': '0', 'opcional': '0', 'tiene_color': '0'}, \n",
    "    {'id': 9, 'nombre': 'boca', 'orden_z': 4, 'orden_gui': 6, 'id_parent': 3, 'offset_x_min': 0, 'offset_x_max': 0, 'offset_x_steps': 1, 'offset_y_min': 40, 'offset_y_max': 40, 'offset_y_steps': 1, 'scale_min': 1.0, 'scale_max': 1.0, 'scale_steps': 1, 'simetrico_x': '0', 'opcional': '0', 'tiene_color': '1'}, \n",
    "    {'id': 10, 'nombre': 'bigote', 'orden_z': 8, 'orden_gui': 7, 'id_parent': 9, 'offset_x_min': 0, 'offset_x_max': 0, 'offset_x_steps': 1, 'offset_y_min': -10, 'offset_y_max': -10, 'offset_y_steps': 1, 'scale_min': 3.0, 'scale_max': 3.0, 'scale_steps': 1, 'simetrico_x': '0', 'opcional': '0', 'tiene_color': '1'}, \n",
    "    {'id': 11, 'nombre': 'barba', 'orden_z': 7, 'orden_gui': 8, 'id_parent': 9, 'offset_x_min': 0, 'offset_x_max': 0, 'offset_x_steps': 1, 'offset_y_min': 0, 'offset_y_max': 0, 'offset_y_steps': 1, 'scale_min': 5.0, 'scale_max': 5.0, 'scale_steps': 1, 'simetrico_x': '0', 'opcional': '0', 'tiene_color': '1'}, \n",
    "    {'id': 12, 'nombre': 'lente', 'orden_z': 9, 'orden_gui': 9, 'id_parent': 3, 'offset_x_min': 0, 'offset_x_max': 0, 'offset_x_steps': 1, 'offset_y_min': 0, 'offset_y_max': 0, 'offset_y_steps': 1, 'scale_min': 3.0, 'scale_max': 3.0, 'scale_steps': 1, 'simetrico_x': '0', 'opcional': '1', 'tiene_color': '1'}, \n",
    "]"
   ]
  },
  {
   "cell_type": "code",
   "execution_count": null,
   "id": "71bcb1f7",
   "metadata": {},
   "outputs": [],
   "source": [
    "# Actualiza las partes desde el arreglo hacia la base de datos\n",
    "\n",
    "conexion =  orm.Conexion(avy.PATH_BDD)\n",
    "try:\n",
    "    for parte in PARTES:\n",
    "        avy.Partes.actualizar(conexion, parte)\n",
    "    conexion.commit()\n",
    "    print(\"Partes Actualizadas en la Base\")\n",
    "except Exception as ex:\n",
    "    conexion.rollback()\n",
    "    print(repr(ex))\n",
    "finally:\n",
    "    conexion.close()\n"
   ]
  },
  {
   "cell_type": "code",
   "execution_count": null,
   "id": "21e2cb6e",
   "metadata": {},
   "outputs": [],
   "source": [
    "# Regenera instrucciones iniciales de INSERT para las partes\n",
    "campos = ['id', 'nombre', 'orden_z', 'orden_gui', 'id_parent', 'offset_x_min', 'offset_x_max', 'offset_x_steps', 'offset_y_min', 'offset_y_max', 'offset_y_steps', 'scale_min', 'scale_max', 'scale_steps', 'simetrico_x', 'opcional', 'tiene_color']\n",
    "campos_texto = ['nombre', 'simetrico_x', 'opcional', 'tiene_color']\n",
    "def valorCampo(parte,campo):\n",
    "    if parte[campo] is None:\n",
    "        return 'NULL'\n",
    "    elif campo in campos_texto:\n",
    "        return \"'{0}'\".format(parte[campo])\n",
    "    else:\n",
    "        return str(parte[campo])\n",
    "for parte in PARTES:\n",
    "    print(\"insert into PARTE ({0}) values ({1});\".format(\", \".join([campo.upper() for campo in campos]),\", \".join([ valorCampo(parte, campo) for campo in campos ]) ) )\n"
   ]
  },
  {
   "cell_type": "markdown",
   "id": "5848bb40",
   "metadata": {},
   "source": [
    "# Despliegue de Aleatorio"
   ]
  },
  {
   "cell_type": "code",
   "execution_count": 2,
   "id": "408ca129",
   "metadata": {},
   "outputs": [],
   "source": [
    "# generarPrendasByGenero() Utilizando la funcion de libreria\n",
    "generarPrendasByGenero = avy.generarPrendasByGenero\n",
    "generarSvgAvatar = avy.generarSvgAvatar"
   ]
  },
  {
   "cell_type": "code",
   "execution_count": null,
   "id": "0c33c738",
   "metadata": {},
   "outputs": [],
   "source": [
    "# generarPrendasByGenero() definida manualmente\n",
    "\n",
    "from random import choice\n",
    "\n",
    "def generarPrendasByGenero(conexion, id_genero, verbal = False):\n",
    "    partes = PARTES.copy() # Partes.getNamedQuery(conexion, 'findall',{})\n",
    "    prendas = avy.findPrendasByGenero(conexion, id_genero)\n",
    "    colores_piel = avy.ColoresPiel.getNamedQuery(conexion, 'findall',{})\n",
    "    color_piel = choice(colores_piel)['color']\n",
    "    colores_partes = avy.ColoresParte.getNamedQuery(conexion, 'findall',{})\n",
    "    # campos_prenda_avatar = [ \"id\", \"id_avatar\", \"id_parte\", \"id_prenda\", \"offset_x\", \"offset_y\", \"escala\", \"color\" ]\n",
    "    for parte in partes:\n",
    "        prendas_parte = [ prenda for prenda in prendas if prenda['id_parte'] == parte['id'] ]\n",
    "        colores_parte = [ color['color'] for color in colores_partes if color['id_parte'] == parte['id'] ]\n",
    "        if parte['opcional'] == '1' or len(prendas_parte) == 0:\n",
    "            prendas_parte = [ { \"id_prenda\":None, \"nombre\":None, \"id_parte\":None, \"svg\":None } ] + prendas_parte\n",
    "        prenda = choice(prendas_parte)\n",
    "        parte[\"id_parte\"] = parte[\"id\"]\n",
    "        parte[\"id_prenda\"] = prenda[\"id_prenda\"]\n",
    "        parte[\"svg\"] = prenda[\"svg\"]\n",
    "        parte[\"offset_x\"] = choice( avy.lista_rango( parte['offset_x_min'], parte['offset_x_max'], parte['offset_x_steps'] ))\n",
    "        parte[\"offset_y\"] = choice( avy.lista_rango( parte['offset_y_min'], parte['offset_y_max'], parte['offset_y_steps'] ))\n",
    "        parte[\"escala\"] = choice( avy.lista_rango( parte['scale_min'], parte['scale_max'], parte['scale_steps'] ))\n",
    "        parte[\"color\"] = choice(colores_parte) if len(colores_parte) > 0 else color_piel\n",
    "        if verbal:\n",
    "            print(\"{0} : {1}\".format(parte['nombre'],parte['color'] ))\n",
    "    return {'color_piel': color_piel, 'prendas': partes}\n",
    "\n",
    "def ajustarTransformaciones(data):\n",
    "    cola_prendas = [ prenda for prenda in data['prendas'] if prenda['id_parent'] is None ]\n",
    "    while True:\n",
    "        if len(cola_prendas) == 0:\n",
    "            break\n",
    "        parte = cola_prendas.pop(0)\n",
    "        filtro_padres = [x for x in data['prendas'] if x['id_parte'] == parte['id_parent'] ]\n",
    "        if len(filtro_padres) > 0:\n",
    "            padre = filtro_padres[0]\n",
    "            if parte['simetrico_x'] == '1':\n",
    "                parte['offset_xr'] = padre['offset_x'] - parte['offset_x']\n",
    "            else:\n",
    "                parte['offset_xr'] = 0\n",
    "            parte['offset_x'] += padre['offset_x']\n",
    "            parte['offset_y'] += padre['offset_y']\n",
    "        cola_prendas += [ prenda for prenda in data['prendas'] if prenda['id_parent'] == parte['id_parte'] ]\n",
    "    return data['prendas']\n",
    "\n",
    "def aplicar_transformaciones(nodo_svg, id, offset_x, offset_y, escala, color, simetrico_x , offset_xr):\n",
    "    if nodo_svg is None:\n",
    "        return ''\n",
    "    print('{0} {1}'.format(offset_x, offset_xr))\n",
    "    resultado = nodo_svg.format( id = id, offset_x = offset_x, offset_y = offset_y , escala_x = escala, escala_y = escala , color = color )\n",
    "    if simetrico_x == '1':\n",
    "        #print(\"agrega simetrico\")\n",
    "        #resultado += \"\"\"<svg:use height=\"100%\" width=\"100%\" x=\"0\" y=\"0\" xlink:href=\"#{id}\" id=\"m{id}\" transform=\"translate({offset_x} {offset_y}) scale({escala_x} {escala_y})\" />\"\"\".format( id = id, offset_x = offset_xr, offset_y = offset_y , escala_x = -escala, escala_y = escala )\n",
    "        resultado += nodo_svg.format( id = id, offset_x = offset_xr, offset_y = offset_y , escala_x = -escala, escala_y = escala, color = color ).replace('id=\"','id=\"m')\n",
    "    return resultado\n",
    "\n",
    "def generarSvgAvatar(data):\n",
    "    color_piel = data['color_piel']\n",
    "    prendas = ajustarTransformaciones(data)\n",
    "    resultado = \"\"\"<svg xmlns:dc=\"http://purl.org/dc/elements/1.1/\"\n",
    "   xmlns:cc=\"http://creativecommons.org/ns#\"\n",
    "   xmlns:rdf=\"http://www.w3.org/1999/02/22-rdf-syntax-ns#\"\n",
    "   xmlns:svg=\"http://www.w3.org/2000/svg\"\n",
    "   xmlns=\"http://www.w3.org/2000/svg\"\n",
    "   xmlns:xlink=\"http://www.w3.org/1999/xlink\"\n",
    "   xmlns:sodipodi=\"http://sodipodi.sourceforge.net/DTD/sodipodi-0.dtd\"\n",
    "   xmlns:inkscape=\"http://www.inkscape.org/namespaces/inkscape\" width=\"200\" height=\"200\">\n",
    "\"\"\" + \"\\n\".join( [ aplicar_transformaciones(prenda['svg'], 'g_{1}_{0}'.format(prenda['id'], prenda['nombre']), prenda['offset_x'], prenda['offset_y'], prenda['escala'], prenda['color'], prenda['simetrico_x'], prenda['offset_xr'] if 'offset_xr' in prenda else 0 ) for prenda in prendas ] ) + \"\"\"\n",
    "</svg>\"\"\"\n",
    "    return resultado"
   ]
  },
  {
   "cell_type": "code",
   "execution_count": 3,
   "id": "833d5ec3",
   "metadata": {},
   "outputs": [
    {
     "name": "stdout",
     "output_type": "stream",
     "text": [
      "101 21\n",
      "61 0\n",
      "81 41\n",
      "61 0\n",
      "61 0\n",
      "81 41\n",
      "61 0\n",
      "61 0\n",
      "61 0\n",
      "61 0\n"
     ]
    },
    {
     "data": {
      "text/html": [
       "<h1>Avatar Aleatorio!</h1><br><svg xmlns:dc=\"http://purl.org/dc/elements/1.1/\"\n",
       "   xmlns:cc=\"http://creativecommons.org/ns#\"\n",
       "   xmlns:rdf=\"http://www.w3.org/1999/02/22-rdf-syntax-ns#\"\n",
       "   xmlns:svg=\"http://www.w3.org/2000/svg\"\n",
       "   xmlns=\"http://www.w3.org/2000/svg\"\n",
       "   xmlns:xlink=\"http://www.w3.org/1999/xlink\"\n",
       "   xmlns:sodipodi=\"http://sodipodi.sourceforge.net/DTD/sodipodi-0.dtd\"\n",
       "   xmlns:inkscape=\"http://www.inkscape.org/namespaces/inkscape\" \n",
       "   width=\"200\" height=\"200\">\n",
       "\n",
       "\n",
       "<g id=\"g_oreja_7\" transform=\"translate(101 96) scale(2.0 2.0)\">\n",
       "<path d=\"m 0.90141375,-2.1343811 c 4.77820995,-3.88794 3.75082995,-5.43081 5.73264995,-5.64443 2.33892,-0.64287 0.1166,10.46969 -1.49931,11.81803 -0.86585,1.59589 -0.37667,3.86034 -2.11667,3.88057 -0.95663,-0.29347 -3.11266995,-3.27917 -2.86630995,-7.14374996 0.008,-0.11843 0.65584,-2.06619004 0.74964,-2.91042004 z\" id=\"path1426\" sodipodi:nodetypes=\"ccccsc\" style=\"fill:#73512d;fill-opacity:1;stroke:#000000;stroke-width:0.264583px;stroke-linecap:butt;stroke-linejoin:miter;stroke-opacity:1\"/>\n",
       "<path d=\"m 7.2073437,-5.1329811 c -1.43391,-1.43915 -2.60408,2.28731 -3.26322,5.24756004 1.83787,-1.15529004 0.60525,1.77493996 -0.79375,3.13088996\" id=\"path1428\" sodipodi:nodetypes=\"ccc\" style=\"fill:none;stroke:#000000;stroke-width:0.264583px;stroke-linecap:butt;stroke-linejoin:miter;stroke-opacity:1\"/>\n",
       "<path d=\"m 3.1503737,3.2454689 c 1.37502,0.87177 4.94282,-5.05426 2.73405,-7.71699\" id=\"path1430\" sodipodi:nodetypes=\"cc\" style=\"fill:none;stroke:#000000;stroke-width:0.264583px;stroke-linecap:butt;stroke-linejoin:miter;stroke-opacity:1\"/>\n",
       "</g><g id=\"mg_oreja_7\" transform=\"translate(21 96) scale(-2.0 2.0)\">\n",
       "<path d=\"m 0.90141375,-2.1343811 c 4.77820995,-3.88794 3.75082995,-5.43081 5.73264995,-5.64443 2.33892,-0.64287 0.1166,10.46969 -1.49931,11.81803 -0.86585,1.59589 -0.37667,3.86034 -2.11667,3.88057 -0.95663,-0.29347 -3.11266995,-3.27917 -2.86630995,-7.14374996 0.008,-0.11843 0.65584,-2.06619004 0.74964,-2.91042004 z\" id=\"mpath1426\" sodipodi:nodetypes=\"ccccsc\" style=\"fill:#73512d;fill-opacity:1;stroke:#000000;stroke-width:0.264583px;stroke-linecap:butt;stroke-linejoin:miter;stroke-opacity:1\"/>\n",
       "<path d=\"m 7.2073437,-5.1329811 c -1.43391,-1.43915 -2.60408,2.28731 -3.26322,5.24756004 1.83787,-1.15529004 0.60525,1.77493996 -0.79375,3.13088996\" id=\"mpath1428\" sodipodi:nodetypes=\"ccc\" style=\"fill:none;stroke:#000000;stroke-width:0.264583px;stroke-linecap:butt;stroke-linejoin:miter;stroke-opacity:1\"/>\n",
       "<path d=\"m 3.1503737,3.2454689 c 1.37502,0.87177 4.94282,-5.05426 2.73405,-7.71699\" id=\"mpath1430\" sodipodi:nodetypes=\"cc\" style=\"fill:none;stroke:#000000;stroke-width:0.264583px;stroke-linecap:butt;stroke-linejoin:miter;stroke-opacity:1\"/>\n",
       "</g>\n",
       "<g id=\"g_cara_3\" style=\"display:inline;opacity:0.98\" transform=\"translate(61 96) scale(5.0 5.0)\">\n",
       "<path d=\"m -0.0268764,12.050461 c -2.32997,0.453711 -3.67197,-1.113515 -5.72493,-4.705222 -1.34986,-2.361634 -2.86969,-2.822702 -3.13151,-7.25866895 -0.2442,-10.48374205 4.33756,-11.46798505 8.85644,-12.11834405\" id=\"path1960\" sodipodi:nodetypes=\"cscc\" style=\"fill:#73512d;fill-opacity:1;stroke:#000000;stroke-width:0.280984px;stroke-linecap:butt;stroke-linejoin:miter;stroke-opacity:1\"/>\n",
       "<use height=\"100%\" id=\"use1962\" transform=\"matrix(-1,0,0,1,-0.0537528,0)\" width=\"100%\" x=\"0\" xlink:href=\"#path1960\" y=\"0\"/>\n",
       "</g>\n",
       "<g id=\"g_ojo_5\" transform=\"translate(81 96) scale(2.0 2.0)\">\n",
       "<path d=\"m -5.9937792,1.4871985 c 0.96822,-2.88717 2.40929,-3.34149 3.94669,-3.72623 l 3.19706,0.11025 c 1.22481,-0.0205 2.53919,0.67561 4.05694,2.99861003 -0.45862,2.37056997 -1.89752,3.99256997 -5.57828997,3.90259997 -1.69939003,-0.16906 -4.98319003,-0.68133 -5.62240003,-3.28523 z\" id=\"path2143\" sodipodi:nodetypes=\"cccccc\" style=\"fill:#ffffff;stroke:#000000;stroke-width:0.264583px;stroke-linecap:butt;stroke-linejoin:miter;stroke-opacity:1\"/>\n",
       "<path d=\"m -2.0470892,-2.2390315 c -2.51604,1.61917003 -1.29,5.52985 1.49931003,5.22552 3.26778997,0.0131 3.90252997,-3.75207997 1.69774997,-5.11527 -0.84548997,-0.30777 -1.61381997,-0.71049 -3.19706,-0.11025 z\" id=\"path2139\" sodipodi:nodetypes=\"cccc\" style=\"fill:#7085b3;fill-opacity:1;stroke:#000000;stroke-width:0.264583px;stroke-linecap:butt;stroke-linejoin:miter;stroke-opacity:1\"/>\n",
       "<path d=\"m -6.6331892,2.7219085 c 0.42207,-2.32427997 0.70432,-6.40996 6.39410003,-7.23194 2.57369997,0.35354 4.63056997,1.68672 5.44598997,5.37985003\" id=\"path2141\" sodipodi:nodetypes=\"ccc\" style=\"fill:none;stroke:#000000;stroke-width:0.5;stroke-linecap:butt;stroke-linejoin:miter;stroke-miterlimit:4;stroke-dasharray:none;stroke-opacity:0.533333\"/>\n",
       "<path d=\"m -6.6331892,2.7219085 0.63941,-1.23471 c 0.73916,-2.42690997 2.15104,-3.47099 3.94669,-3.72623 1.45548003,-0.431 2.31269003,-0.14408 3.19706,0.11025 2.24058,0.26576 3.13318,1.64506003 4.05694,2.99863003 l 1.43317,2.31507997\" id=\"path2145\" sodipodi:nodetypes=\"cccccc\" style=\"fill:none;stroke:#000000;stroke-width:0.5;stroke-linecap:butt;stroke-linejoin:miter;stroke-miterlimit:4;stroke-dasharray:none;stroke-opacity:1\"/>\n",
       "</g><g id=\"mg_ojo_5\" transform=\"translate(41 96) scale(-2.0 2.0)\">\n",
       "<path d=\"m -5.9937792,1.4871985 c 0.96822,-2.88717 2.40929,-3.34149 3.94669,-3.72623 l 3.19706,0.11025 c 1.22481,-0.0205 2.53919,0.67561 4.05694,2.99861003 -0.45862,2.37056997 -1.89752,3.99256997 -5.57828997,3.90259997 -1.69939003,-0.16906 -4.98319003,-0.68133 -5.62240003,-3.28523 z\" id=\"mpath2143\" sodipodi:nodetypes=\"cccccc\" style=\"fill:#ffffff;stroke:#000000;stroke-width:0.264583px;stroke-linecap:butt;stroke-linejoin:miter;stroke-opacity:1\"/>\n",
       "<path d=\"m -2.0470892,-2.2390315 c -2.51604,1.61917003 -1.29,5.52985 1.49931003,5.22552 3.26778997,0.0131 3.90252997,-3.75207997 1.69774997,-5.11527 -0.84548997,-0.30777 -1.61381997,-0.71049 -3.19706,-0.11025 z\" id=\"mpath2139\" sodipodi:nodetypes=\"cccc\" style=\"fill:#7085b3;fill-opacity:1;stroke:#000000;stroke-width:0.264583px;stroke-linecap:butt;stroke-linejoin:miter;stroke-opacity:1\"/>\n",
       "<path d=\"m -6.6331892,2.7219085 c 0.42207,-2.32427997 0.70432,-6.40996 6.39410003,-7.23194 2.57369997,0.35354 4.63056997,1.68672 5.44598997,5.37985003\" id=\"mpath2141\" sodipodi:nodetypes=\"ccc\" style=\"fill:none;stroke:#000000;stroke-width:0.5;stroke-linecap:butt;stroke-linejoin:miter;stroke-miterlimit:4;stroke-dasharray:none;stroke-opacity:0.533333\"/>\n",
       "<path d=\"m -6.6331892,2.7219085 0.63941,-1.23471 c 0.73916,-2.42690997 2.15104,-3.47099 3.94669,-3.72623 1.45548003,-0.431 2.31269003,-0.14408 3.19706,0.11025 2.24058,0.26576 3.13318,1.64506003 4.05694,2.99863003 l 1.43317,2.31507997\" id=\"mpath2145\" sodipodi:nodetypes=\"cccccc\" style=\"fill:none;stroke:#000000;stroke-width:0.5;stroke-linecap:butt;stroke-linejoin:miter;stroke-miterlimit:4;stroke-dasharray:none;stroke-opacity:1\"/>\n",
       "</g>\n",
       "<g id=\"g_boca_9\" transform=\"translate(61 136) scale(1.0 1.0)\">\n",
       "<path d=\"m -7.1151016,0.4842068 c -0.12473,-0.31184 0.24947,-1.80854 0.24947,-1.80854 -0.17789,0.10165 1.8457,-1.86156 2.36977,-2.12034 0.30459,-0.1504 1.82302,-0.54576 1.82302,-0.50203 0.38409,-0.10606 0.22512,0.0671 2.04349998,0.75148 1.34676,0.0276 1.12852,-0.96106 2.37045002,-1.03811 l 3.30457,1.34992 1.3096,1.68381 0.43654,1.43436 -1.12252,3.30522 -0.9978,0.56127 -8.91791,0.0624 -1.43433,-0.74835 z\" id=\"path1512\" sodipodi:nodetypes=\"ccsccccccccccc\" style=\"fill:#e28c7c;fill-opacity:1;stroke:none;stroke-width:0.264583px;stroke-linecap:butt;stroke-linejoin:miter;stroke-opacity:1\"/>\n",
       "<path d=\"m -9.0967316,-0.8338732 c 0.62971,0.58325 1.18907,1.49481 1.98163,1.31808 0.91621,0.17297 1.4665,-0.72494 3.08956,-1.18579 0,0 3.66497998,-0.22323 3.83645998,-0.26458 0.29489,-0.0711 3.43644002,0.29292 3.26319002,0.39687 1.12359,0.23908 2.14177,0.79637 3.71771,0.80405 1.07647,0.28061 1.73525,-0.57247 2.41181,-1.37732\" id=\"path1514\" sodipodi:nodetypes=\"cccsccc\" style=\"fill:none;stroke:#000000;stroke-width:0.264583px;stroke-linecap:butt;stroke-linejoin:miter;stroke-opacity:1\"/>\n",
       "<path d=\"m 8.5421684,-2.1126832 c 0.50037,0.73106 1.42241,0.32685 1.23471,2.91042\" id=\"path1516\" sodipodi:nodetypes=\"cc\" style=\"fill:none;stroke:#000000;stroke-width:0.264583px;stroke-linecap:butt;stroke-linejoin:miter;stroke-opacity:0.533333\"/>\n",
       "<path d=\"m -8.4793716,-1.4953332 c -0.34126,0.4081 -0.48356,0.22541 -1.19063,1.71979\" id=\"path1518\" sodipodi:nodetypes=\"cc\" style=\"fill:none;stroke:#000000;stroke-width:0.264583px;stroke-linecap:butt;stroke-linejoin:miter;stroke-opacity:0.533333\"/>\n",
       "</g>\n",
       "<g id=\"g_nariz_8\" transform=\"translate(61 106) scale(1.5 1.5)\">\n",
       "<path d=\"m -1.6272087,-5.0073404 c 0.14932,-0.6513 1.05079998,-1.02796 1.72595998,-1.05 0.60017,-0.0196 1.24922002,0.34468 1.59321002,0.83126 1.00628,1.42341 0.34606,3.46319 0.70808,5.16248937 0.25213,1.18347943 0.32829,2.48610853 1.01561,3.48664853 1.28649,1.87275 4.35313,5.64082 -0.30097,5.5539 -0.28177,-0.005 -0.45116,-0.68439 -0.67038,-0.5093 -1.1491,0.91776 -2.36240002,3.1564995 -4.38129,0.13125 -0.19828,-0.29711 -0.66043,0.29372 -1.01025,0.37805 -2.1563,0.51979 -4.28639,0.1264 -0.62837,-5.78776 0.63171,-1.0213297 0.9893,-4.01316793 1.9484,-8.1965379 z\" id=\"path2295\" sodipodi:nodetypes=\"saaasssssss\" style=\"fill:#000000;fill-opacity:0.266667;stroke:none;stroke-width:0.248913px;stroke-linecap:butt;stroke-linejoin:miter;stroke-opacity:1\"/>\n",
       "<path d=\"m -1.2605087,-9.7753805 -1.52136,14.089058\" id=\"path2283\" style=\"fill:none;stroke:#000000;stroke-width:0.264583px;stroke-linecap:butt;stroke-linejoin:miter;stroke-opacity:1\"/>\n",
       "<path d=\"m -3.5756187,3.1891975 c -3.55117,6.33265 -1.17899,5.66421 0.62839,5.78776\" id=\"path2285\" sodipodi:nodetypes=\"cc\" style=\"fill:none;stroke:#000000;stroke-width:0.264583px;stroke-linecap:butt;stroke-linejoin:miter;stroke-opacity:1\"/>\n",
       "<path d=\"m 3.4156613,3.4230575 c 3.99442,5.22455 1.51548,5.40764 -0.30098,5.5539\" id=\"path2287\" sodipodi:nodetypes=\"cc\" style=\"fill:none;stroke:#000000;stroke-width:0.264583px;stroke-linecap:butt;stroke-linejoin:miter;stroke-opacity:1\"/>\n",
       "<path d=\"m -3.5764587,7.8638575 c 2.5225,-0.0341 1.21803,1.49666 3.83531998,2.2450695 1.45752002,-0.081 1.32704002,-1.6950195 3.08696002,-2.1982895\" id=\"path2289\" sodipodi:nodetypes=\"ccc\" style=\"fill:none;stroke:#000000;stroke-width:0.264583px;stroke-linecap:butt;stroke-linejoin:miter;stroke-opacity:1\"/>\n",
       "<path d=\"m 1.3853213,5.2727875 c -0.30981,-0.16908 -0.75473002,-0.1469 -1.05833002,0.0331 -0.37407,0.22178 -0.51104,0.71646 -0.66146,1.12448 -0.13166,0.35712 -0.33955,0.77099 -0.19844,1.12448 0.1169,0.29283 0.42995,0.56224 0.76068,0.56224 0.33073,0 0.77371002,-0.0949 1.05833002,-0.33073 0.28864,-0.23913 0.44527,-0.62687 0.52917,-0.99218 0.0642,-0.27957 0.0488,-0.58498 -0.0331,-0.8599 -0.0734,-0.24644 -0.17114,-0.53831 -0.39685,-0.66149 z\" id=\"path2291\" sodipodi:nodetypes=\"sssssssss\" style=\"fill:#fefefe;fill-opacity:0.533333;stroke:none;stroke-width:0.264583px;stroke-linecap:butt;stroke-linejoin:miter;stroke-opacity:1\"/>\n",
       "</g>\n",
       "<g id=\"g_ceja_6\" transform=\"translate(81 76) scale(2.0 2.0)\">\n",
       "<path d=\"m -4.8535595,2.3782548 c -1.05775,-0.0749 -2.25609,-0.83526 -2.15151,-1.77737004 0.18747,-1.68882996 0.9355,-2.64329996 1.3408,-2.74396996 8.41302,-0.69819 11.60675,2.21610996 12.50376,3.92888 -3.80343,0.16214 -6.57094,0.4887 -11.69305,0.59246 z\" id=\"path2519\" sodipodi:nodetypes=\"csccc\" style=\"fill:#543c32;fill-opacity:1;stroke:#000000;stroke-width:0.264583px;stroke-linecap:butt;stroke-linejoin:miter;stroke-opacity:1\"/>\n",
       "<path d=\"m -6.3502495,-0.70872524 c -0.69957,1.07952 2.68979,3.25619004 3.30522,2.89989004 -1.20837,-1.09831 -2.56822,-2.14928004 -2.49451,-3.64824\" id=\"path2521\" sodipodi:nodetypes=\"ccc\" style=\"fill:none;stroke:#fefefe;stroke-width:0.264583px;stroke-linecap:butt;stroke-linejoin:miter;stroke-opacity:0.133333\"/>\n",
       "<path d=\"m -2.1407595,-1.6753552 c -0.73739,0.86685996 -0.79189,2.92312 1.40317,3.67941 0.0761,0.0262 1.27335,-2.94773004 2.74396,-2.80633004\" id=\"path2523\" sodipodi:nodetypes=\"csc\" style=\"fill:none;stroke:#fefefe;stroke-width:0.264583px;stroke-linecap:butt;stroke-linejoin:miter;stroke-opacity:0.133333\"/>\n",
       "<path d=\"m 4.7191505,0.16434476 c -1.47464,-0.0673 -2.48438,0.5886 -3.2117,1.68381004 1.40623,-0.33687 2.69297,-0.91273004 4.49014,-0.46773\" id=\"path2527\" sodipodi:nodetypes=\"ccc\" style=\"fill:none;stroke:#fefefe;stroke-width:0.264583px;stroke-linecap:butt;stroke-linejoin:miter;stroke-opacity:0.133333\"/>\n",
       "</g><g id=\"mg_ceja_6\" transform=\"translate(41 76) scale(-2.0 2.0)\">\n",
       "<path d=\"m -4.8535595,2.3782548 c -1.05775,-0.0749 -2.25609,-0.83526 -2.15151,-1.77737004 0.18747,-1.68882996 0.9355,-2.64329996 1.3408,-2.74396996 8.41302,-0.69819 11.60675,2.21610996 12.50376,3.92888 -3.80343,0.16214 -6.57094,0.4887 -11.69305,0.59246 z\" id=\"mpath2519\" sodipodi:nodetypes=\"csccc\" style=\"fill:#543c32;fill-opacity:1;stroke:#000000;stroke-width:0.264583px;stroke-linecap:butt;stroke-linejoin:miter;stroke-opacity:1\"/>\n",
       "<path d=\"m -6.3502495,-0.70872524 c -0.69957,1.07952 2.68979,3.25619004 3.30522,2.89989004 -1.20837,-1.09831 -2.56822,-2.14928004 -2.49451,-3.64824\" id=\"mpath2521\" sodipodi:nodetypes=\"ccc\" style=\"fill:none;stroke:#fefefe;stroke-width:0.264583px;stroke-linecap:butt;stroke-linejoin:miter;stroke-opacity:0.133333\"/>\n",
       "<path d=\"m -2.1407595,-1.6753552 c -0.73739,0.86685996 -0.79189,2.92312 1.40317,3.67941 0.0761,0.0262 1.27335,-2.94773004 2.74396,-2.80633004\" id=\"mpath2523\" sodipodi:nodetypes=\"csc\" style=\"fill:none;stroke:#fefefe;stroke-width:0.264583px;stroke-linecap:butt;stroke-linejoin:miter;stroke-opacity:0.133333\"/>\n",
       "<path d=\"m 4.7191505,0.16434476 c -1.47464,-0.0673 -2.48438,0.5886 -3.2117,1.68381004 1.40623,-0.33687 2.69297,-0.91273004 4.49014,-0.46773\" id=\"mpath2527\" sodipodi:nodetypes=\"ccc\" style=\"fill:none;stroke:#fefefe;stroke-width:0.264583px;stroke-linecap:butt;stroke-linejoin:miter;stroke-opacity:0.133333\"/>\n",
       "</g>\n",
       "<g id=\"g_barba_11\" transform=\"translate(61 136) scale(5.0 5.0)\">\n",
       "<path d=\"m -4.3945707,3.1292724 c 0.29743,-0.5251 -0.0911,-0.4784 -0.24945,-0.6237 0.17169,-0.2971 -0.0182,-0.5339 -0.343,-0.7483 -0.18141,-0.7134 -0.56637,-0.81620004 -0.90427,-1.06020004 0.19588,-0.73 -0.2267,-1.0476 -0.4989,-1.4655 0.23211,-0.58999996 0.002,-1.11389996 -0.343,-1.62149996 0.0889,-0.4157 0.0931,-0.8315 -0.31182,-1.2472 -0.24909,-1.358 -0.6099,-0.5932 -0.93543,-0.4989 -0.22167,0.3292 -0.56273,0.539 -0.31181,1.3408 -0.14904,0.4651 -0.24248,0.9719 -0.0624,1.6838 -0.0309,0.34669996 -0.29906,0.53509996 0.12472,1.18489996 -0.10529,0.3326 -0.2525,0.6652 0.12473,0.99780004 -0.1719,0.3742 -0.0225,0.7483 0.21828,1.1225 -0.008,0.5251 0.15377,0.8466 0.56126,0.8731 0.0529,0.5547 0.36548,0.7198 0.74835,0.7795 0.17221,0.525 0.50745,0.4794 0.8419,0.4366 0.54045,0.2702 0.95626,0.1664 1.24725,-0.3118 0.43782,-0.2806 0.2113,-0.5613 0.0936,-0.8419 z\" id=\"path2264\" sodipodi:nodetypes=\"cccccccccccccccccc\" style=\"fill:#b79675;fill-opacity:1;stroke:none;stroke-width:0.264583px;stroke-linecap:butt;stroke-linejoin:miter;stroke-opacity:1\"/>\n",
       "<path d=\"m 3.7337393,3.0668724 c -0.29743,-0.5251 0.0911,-0.4784 0.24945,-0.6237 -0.17169,-0.2971 0.0182,-0.5339 0.343,-0.7483 0.18141,-0.71340004 0.56637,-0.81620004 0.90427,-1.06020004 -0.19588,-0.73 0.2267,-1.0476 0.4989,-1.4655 -0.23211,-0.58999996 -0.002,-1.11389996 0.343,-1.62149996 -0.0889,-0.4157 -0.0931,-0.8315 0.31182,-1.2472 0.24909,-1.358 0.6099,-0.5932 0.93543,-0.4989 0.22167,0.3292 0.56273,0.539 0.31181,1.3408 0.14904,0.4651 0.24248,0.9719 0.0624,1.6838 0.0309,0.34669996 0.29906,0.53509996 -0.12472,1.18489996 0.10529,0.3326 0.2525,0.6652 -0.12473,0.99780004 0.1719,0.3742 0.0225,0.7483 -0.21828,1.1225 0.008,0.5251 -0.15377,0.8466 -0.56126,0.8731 -0.0529,0.5547 -0.36548,0.7198 -0.74835,0.7795 -0.17221,0.525 -0.50745,0.4794 -0.8419,0.4366 -0.54045,0.2702 -0.95626,0.1664 -1.24725,-0.3118 -0.43782,-0.2806 -0.2113,-0.5613 -0.0936,-0.8419 z\" id=\"path2266\" sodipodi:nodetypes=\"cccccccccccccccccc\" style=\"fill:#b79675;fill-opacity:1;stroke:none;stroke-width:0.264583px;stroke-linecap:butt;stroke-linejoin:miter;stroke-opacity:1\"/>\n",
       "</g>\n",
       "<g id=\"g_bigote_10\" transform=\"translate(61 126) scale(3.0 3.0)\">\n",
       "<path d=\"m -1.1256798,0.59336335 c 0.83192003,-0.57902 0.50884003,-0.62605 -0.0624,-1.12253 -2.07235,0.24939 -5.72963,0.30858 -5.95567,0.77953 0.39281,0.28414 4.01154,0.22872 6.01803,0.343 z\" id=\"path2236\" sodipodi:nodetypes=\"cccc\" style=\"fill:#b79675;fill-opacity:1;stroke:none;stroke-width:0.264583px;stroke-linecap:butt;stroke-linejoin:miter;stroke-opacity:1\"/>\n",
       "<path d=\"m 0.99489023,0.62454335 c -0.83192001,-0.57902 -0.50884001,-0.62605 0.0624,-1.12253 2.07235,0.24939 5.72963,0.30858 5.95567,0.77953 -0.39281,0.28414 -4.01154,0.22872 -6.0180297,0.343 z\" id=\"path2238\" sodipodi:nodetypes=\"cccc\" style=\"fill:#b79675;fill-opacity:1;stroke:none;stroke-width:0.264583px;stroke-linecap:butt;stroke-linejoin:miter;stroke-opacity:1\"/>\n",
       "</g>\n",
       "<g id=\"g_lente_12\" transform=\"translate(61 96) scale(3.0 3.0)\">\n",
       "<path d=\"m -7.4818269,3.0583503 c -1.81627,-0.65909 -4.0708101,-0.82511 -3.9912201,-3.61703998 -0.47519,-2.37031002 1.9259901,-2.19681002 4.5524901,-1.96442002 2.01229,0.12412 6.15550995,0.26819 5.51912,1.87086002 0.1641,3.04522998 -1.03418,4.96594998 -6.08039,3.71059998 z\" id=\"path2114\" sodipodi:nodetypes=\"ccccc\" style=\"fill:#28be9c;fill-opacity:1;stroke:none;stroke-width:0.264583px;stroke-linecap:butt;stroke-linejoin:miter;stroke-opacity:1\"/>\n",
       "<path d=\"m -11.909587,0.15849032 c -0.84662,-3.36462002 0.26623,-3.09793002 4.9890301,-2.93108002 2.20631,0.29534 4.75345,-0.029 6.11155995,1.80853002 L -1.6820769,1.9358303\" id=\"path2116\" sodipodi:nodetypes=\"cccc\" style=\"fill:none;stroke:#000000;stroke-width:1.05833;stroke-linecap:round;stroke-linejoin:miter;stroke-miterlimit:4;stroke-dasharray:none;stroke-opacity:1\"/>\n",
       "<path d=\"m -0.80899695,-0.96405968 1.43435,-0.0312\" id=\"path2118\" style=\"fill:none;stroke:#000000;stroke-width:1.05833;stroke-linecap:butt;stroke-linejoin:miter;stroke-miterlimit:4;stroke-dasharray:none;stroke-opacity:1\"/>\n",
       "<path d=\"m 7.2981831,3.0271503 c 1.81627,-0.65909 4.0708099,-0.82511 3.9912199,-3.61703998 0.47519,-2.37031002 -1.9259899,-2.19681002 -4.5524899,-1.96442002 -2.01229,0.12412 -6.15551005,0.26819 -5.51912,1.87086002 -0.1641,3.04522998 1.03418,4.96594998 6.08039,3.71059998 z\" id=\"path2120\" sodipodi:nodetypes=\"ccccc\" style=\"fill:#28be9c;fill-opacity:1;stroke:none;stroke-width:0.264583px;stroke-linecap:butt;stroke-linejoin:miter;stroke-opacity:1\"/>\n",
       "<path d=\"m 11.725943,0.12729032 c 0.84662,-3.36462002 -0.26623,-3.09793002 -4.9890299,-2.93108002 -2.20631,0.29534 -4.75345,-0.029 -6.11156005,1.80853002 L 1.4984331,1.9046303\" id=\"path2122\" sodipodi:nodetypes=\"cccc\" style=\"fill:none;stroke:#000000;stroke-width:1.05833;stroke-linecap:round;stroke-linejoin:miter;stroke-miterlimit:4;stroke-dasharray:none;stroke-opacity:1\"/>\n",
       "</g>\n",
       "<g id=\"g_pelo_4\" transform=\"translate(61 96) scale(5.0 5.0)\">\n",
       "<path d=\"m 8.1523712,-11.142754 c 0.9232892,-2.39411 -3.065662,-2.899107 -6.4751028,-3.626961 -2.9634248,0.431623 -3.8150829,-0.659478 -5.0674924,-1.461614 l 1.2386962,1.840561 c -1.3104933,-0.100786 -2.5557653,-0.76591 -3.7161653,-2.165359 l 1.2387345,2.923216 -1.2950178,-1.569864 v 3.031466 l -0.9572151,-3.518675 c 0.015961,2.168429 -0.2999572,3.273094 -0.7319406,4.005884 -1.0285908,2.2538445 -2.7803119,6.6531735 -1.1824255,11.42220566 0.5589148,-1.80445786 1.0988685,-3.60891566 1.0697819,-5.41337356 1.1908527,-1.2509095 0.4216282,-2.4456811 1.6891684,-3.4104131 3.8994313,-0.2545423 3.4894354,1.0739759 7.5449614,1.4616021 2.8144294,0.089615 2.7841937,-1.627647 4.1665863,-1.2992032 1.3422488,0.078198 1.7164292,1.3531439 2.0269969,2.7066684 0.313543,3.5263475 0.9345509,4.1879121 0.8445843,6.27951714 0.8476106,-0.7102388 1.3667889,-3.06241384 1.4639324,-7.52458344 -1.0017005,-2.6974 -1.4454693,-3.249119 -1.8580828,-3.681074 z\" id=\"path3090\" sodipodi:nodetypes=\"ccccccccccccccccccc\" style=\"fill:#4e4341;fill-opacity:1;stroke:#000000;stroke-width:0.331252px;stroke-linecap:butt;stroke-linejoin:miter;stroke-opacity:0.266667\"/>\n",
       "<path d=\"m 0.21329776,-14.228369 c 1.83281384,0.264768 3.12907054,0.787454 2.87158114,2.05706 l -1.5765248,4.547267 c -0.033198,-1.5335272 0.270079,-3.325856 -0.4504721,-4.330719 l -5.5179262,-2.869103 c 2.4580482,2.095496 4.28463102,4.1646 3.3220149,6.1171178\" id=\"path3092\" sodipodi:nodetypes=\"cccccc\" style=\"fill:none;stroke:#ffffff;stroke-width:0.331252px;stroke-linecap:butt;stroke-linejoin:miter;stroke-opacity:0.266667\"/>\n",
       "<path d=\"m -6.2998424,-11.428551 c -0.399845,0.848945 0.7572605,1.289653 1.433288,1.8565077 -1.4762922,-0.1123247 -2.4548944,-0.5151117 -2.4485485,-1.4928557\" id=\"path3094\" sodipodi:nodetypes=\"ccc\" style=\"fill:none;stroke:#ffffff;stroke-width:0.331252px;stroke-linecap:butt;stroke-linejoin:miter;stroke-opacity:0.266667\"/>\n",
       "<path d=\"m 8.0530836,-10.031385 c 0.6724011,0.4900689 0.4022454,2.6420965 -0.3384033,2.2201221 0.5471041,0.5149648 1.1119435,0.7910637 1.7119986,0.5933224\" id=\"path3096\" sodipodi:nodetypes=\"ccc\" style=\"fill:none;stroke:#ffffff;stroke-width:0.331252px;stroke-linecap:butt;stroke-linejoin:miter;stroke-opacity:0.266667\"/>\n",
       "</g>\n",
       "</svg>"
      ],
      "text/plain": [
       "<IPython.core.display.HTML object>"
      ]
     },
     "metadata": {},
     "output_type": "display_data"
    }
   ],
   "source": [
    "from IPython.display import display, HTML\n",
    "import xpd_orm as orm\n",
    "\n",
    "conexion =  orm.Conexion(avy.PATH_BDD)\n",
    "# prendas = avy.findPrendasByGenero(conexion, 3)\n",
    "# print(repr(prendas))\n",
    "avatar_aleatorio = generarPrendasByGenero(conexion, 1, verbal = False)\n",
    "# print(repr(avatar_aleatorio))\n",
    "conexion.close()\n",
    "svg = generarSvgAvatar(avatar_aleatorio)\n",
    "display(HTML('<h1>Avatar Aleatorio!</h1><br>'+svg))\n",
    "# print(svg)"
   ]
  },
  {
   "cell_type": "code",
   "execution_count": null,
   "id": "074cb5cf",
   "metadata": {},
   "outputs": [],
   "source": [
    "# Otras consultas"
   ]
  },
  {
   "cell_type": "code",
   "execution_count": null,
   "id": "42d726da",
   "metadata": {},
   "outputs": [],
   "source": [
    "avy.Avatares.getNamedQuerySql('findByUsuario')"
   ]
  },
  {
   "cell_type": "code",
   "execution_count": null,
   "id": "adb6d898",
   "metadata": {},
   "outputs": [],
   "source": [
    "avatar = { \"id_genero\":1, \"id_usuario\":2 }\n",
    "avy.transaccionar(avy.trxCrearAvatar, avatar )\n",
    "avatar"
   ]
  },
  {
   "cell_type": "code",
   "execution_count": null,
   "id": "7de7841b",
   "metadata": {},
   "outputs": [],
   "source": [
    "avatar = { \"id_genero\":1, \"id_usuario\":2 }\n",
    "avy.transaccionar(avy.trxCrearAvatar, avatar )\n",
    "avatar"
   ]
  },
  {
   "cell_type": "code",
   "execution_count": null,
   "id": "a72e9a4e",
   "metadata": {},
   "outputs": [],
   "source": [
    "conexion =  orm.Conexion(avy.PATH_BDD)\n",
    "lista = avy.findAvataresByUsuario(conexion, 2)\n",
    "conexion.close()\n",
    "lista"
   ]
  },
  {
   "cell_type": "code",
   "execution_count": null,
   "id": "5b127de9",
   "metadata": {},
   "outputs": [],
   "source": [
    "avy.PrendasAvatar.getNamedQuerySql('findByAvatar')"
   ]
  },
  {
   "cell_type": "code",
   "execution_count": null,
   "id": "dd19fea2",
   "metadata": {},
   "outputs": [],
   "source": [
    "avy.Prendas.getNamedQuerySql('findByParte')"
   ]
  },
  {
   "cell_type": "code",
   "execution_count": null,
   "id": "a78dc014",
   "metadata": {},
   "outputs": [],
   "source": [
    "avy.Partes.getNamedQuerySql('findall')"
   ]
  },
  {
   "cell_type": "code",
   "execution_count": null,
   "id": "64a07b55",
   "metadata": {},
   "outputs": [],
   "source": [
    "avatar = avy.findAvatarById(1)\n",
    "svg = avy.generarSvgAvatar(avatar)\n",
    "avatar"
   ]
  },
  {
   "cell_type": "code",
   "execution_count": null,
   "id": "a66e4351",
   "metadata": {},
   "outputs": [],
   "source": []
  }
 ],
 "metadata": {
  "kernelspec": {
   "display_name": "Python 3 (ipykernel)",
   "language": "python",
   "name": "python3"
  },
  "language_info": {
   "codemirror_mode": {
    "name": "ipython",
    "version": 3
   },
   "file_extension": ".py",
   "mimetype": "text/x-python",
   "name": "python",
   "nbconvert_exporter": "python",
   "pygments_lexer": "ipython3",
   "version": "3.10.2"
  }
 },
 "nbformat": 4,
 "nbformat_minor": 5
}
