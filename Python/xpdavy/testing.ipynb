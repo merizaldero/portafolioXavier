{
 "cells": [
  {
   "cell_type": "code",
   "execution_count": null,
   "id": "dfb894be",
   "metadata": {},
   "outputs": [],
   "source": [
    "from bs4 import BeautifulSoup\n",
    "import lxml\n",
    "import requests\n",
    "import re"
   ]
  },
  {
   "cell_type": "code",
   "execution_count": null,
   "id": "582df1fb",
   "metadata": {},
   "outputs": [],
   "source": [
    "url = \"https://www.tutorialspoint.com/index.htm\"\n",
    "req = requests.get(url)\n",
    "soup = BeautifulSoup(req.text, \"html.parser\")\n",
    "print(soup.title.string)"
   ]
  },
  {
   "cell_type": "code",
   "execution_count": null,
   "id": "82bb76d1",
   "metadata": {},
   "outputs": [],
   "source": [
    "sopa = None\n",
    "with open(r'art\\fabrica.svg', 'rt') as archivo:\n",
    "    sopa = BeautifulSoup(archivo , 'xml')\n"
   ]
  },
  {
   "cell_type": "code",
   "execution_count": null,
   "id": "e6f76a6d",
   "metadata": {},
   "outputs": [],
   "source": [
    "for grupo in sopa.svg.find('g', id= 'layer2').find_all('g'):\n",
    "    print(grupo['id'])\n",
    "    print(str(grupo))"
   ]
  },
  {
   "cell_type": "code",
   "execution_count": 1,
   "id": "82a03fc4",
   "metadata": {},
   "outputs": [],
   "source": [
    "import avy"
   ]
  },
  {
   "cell_type": "code",
   "execution_count": null,
   "id": "831c12ae",
   "metadata": {},
   "outputs": [],
   "source": [
    "avy.inicializar()"
   ]
  },
  {
   "cell_type": "code",
   "execution_count": null,
   "id": "1e21ff17",
   "metadata": {},
   "outputs": [],
   "source": [
    "avy.importar_partes()"
   ]
  },
  {
   "cell_type": "code",
   "execution_count": 2,
   "id": "833d5ec3",
   "metadata": {},
   "outputs": [
    {
     "data": {
      "text/html": [
       "<h1>Avatar Aleatorio!</h1><br><svg>\n",
       "\n",
       "\n",
       "<g id=\"g_oreja_7\" transform=\"translate(80 -20.0) scale(1.7000000000000002)\">\n",
       "<path d=\"m 168.00562,390.70351 c -1.32966,5.40473 -1.01587,7.83071 0.31182,8.41899 1.51925,0.71991 3.46938,-3.13224 3.67941,-4.17833 0.0661,-0.32926 1.55907,-4.98903 1.55907,-4.98903 -0.0221,-1.96606 0.70947,-4.61731 -0.99781,-5.0514 -2.29334,0.17583 -3.44914,2.99845 -4.55249,5.79977 z\" id=\"path1454\" sodipodi:nodetypes=\"ccsccc\" style=\"fill:875732;stroke:#000000;stroke-width:0.264583px;stroke-linecap:butt;stroke-linejoin:miter;stroke-opacity:1;fill-opacity:1\"/>\n",
       "<path d=\"m 169.19052,395.63016 c 1.49285,-1.63637 2.39505,-5.54167 0.56126,-4.05358 1.35926,-4.08247 3.70279,-7.68813 3.14933,-1.13813\" id=\"path1456\" sodipodi:nodetypes=\"ccc\" style=\"fill:none;stroke:#000000;stroke-width:0.264583px;stroke-linecap:butt;stroke-linejoin:miter;stroke-opacity:1\"/>\n",
       "<path d=\"m 169.70501,395.89522 c 0.73769,0.0985 4.0983,-7.05348 2.0268,-8.15396\" id=\"path1458\" sodipodi:nodetypes=\"cc\" style=\"fill:none;stroke:#000000;stroke-width:0.264583px;stroke-linecap:butt;stroke-linejoin:miter;stroke-opacity:1\"/>\n",
       "</g><use xlink:href=\"#g_oreja_7\" id=\"mg_oreja_7\" transform=\"translate(-80 -20.0) scale(-1.7000000000000002 1.7000000000000002)\" />\n",
       "<g id=\"g_cara_3\" transform=\"translate(1 1) scale(1.4000000000000001)\">\n",
       "<path d=\"m 280.53946,29.738383 c -1.4005,-0.301266 -3.15599,-1.096889 -5.17194,-4.165913 -2.37464,-3.615077 -2.98963,-4.478488 -2.96642,-7.378097 -0.2244,-10.1158084 3.98588,-11.0655084 8.13836,-11.6930424\" id=\"path1952\" sodipodi:nodetypes=\"cscc\" style=\"fill:875732;fill-opacity:1;stroke:#000000;stroke-width:0.264583px;stroke-linecap:butt;stroke-linejoin:miter;stroke-opacity:1\"/>\n",
       "<use height=\"100%\" id=\"use1954\" transform=\"matrix(-1,0,0,1,561.07892,0)\" width=\"100%\" x=\"0\" xlink:href=\"#path1952\" y=\"0\"/>\n",
       "</g>\n",
       "<g id=\"g_ojo_5\" transform=\"translate(16.0 -4.0) scale(1.7000000000000002)\">\n",
       "<path d=\"m 138.22734,507.25974 c -0.85448,0.0254 -1.58719,-0.4971 -2.27624,-1.21608 -0.60679,-0.80546 -1.42292,-1.3318 -2.27625,-1.80853 -0.85793,-0.49327 -2.02119,-0.6812 -3.46114,-0.59245 -1.28435,0.12697 -2.13897,0.4688 -2.93105,0.8419\" id=\"path1869\" sodipodi:nodetypes=\"ccccc\" style=\"fill:none;stroke:#000000;stroke-width:0.5;stroke-linecap:butt;stroke-linejoin:miter;stroke-miterlimit:4;stroke-dasharray:none;stroke-opacity:0.533333\"/>\n",
       "<path d=\"m 124.91286,507.13502 c 0.91973,-1.12575 1.62868,-2.43419 3.74178,-2.52569 l 4.11595,-0.18711 c 1.97415,0.25018 2.66297,1.55304 3.77296,2.96225 -0.79577,0.76521 -3.0882,2.25571 -5.67503,2.12034 -1.67548,-0.0818 -4.61565,-0.45209 -5.95566,-2.36979 z\" id=\"path1867\" sodipodi:nodetypes=\"cccccc\" style=\"fill:#ffffff;stroke:#000000;stroke-width:0.264583px;stroke-linecap:butt;stroke-linejoin:miter;stroke-opacity:1\"/>\n",
       "<path d=\"m 128.65464,504.60931 c -1.44179,2.0698 -0.0927,4.39118 1.90207,4.30305 2.6369,0.059 3.45539,-2.10072 2.21388,-4.49014 -1.48961,-0.26111 -2.9533,-0.45094 -4.11595,0.18709 z\" id=\"path1865\" sodipodi:nodetypes=\"cccc\" style=\"fill:7b5c33;fill-opacity:1;stroke:#000000;stroke-width:0.264583px;stroke-linecap:butt;stroke-linejoin:miter;stroke-opacity:1\"/>\n",
       "<path d=\"m 132.42759,502.95669 -0.40536,1.27844 c 0,0 1.30963,0.40537 1.49672,0.34301 0.18708,-0.0624 0.81071,-0.93546 0.81071,-0.93546\" id=\"path1871\" style=\"fill:none;stroke:#000000;stroke-width:0.264583px;stroke-linecap:butt;stroke-linejoin:miter;stroke-opacity:1\"/>\n",
       "<path d=\"m 136.35646,504.51578 -1.49671,0.68598 c 0,0 1.09135,0.8419 1.09135,0.8419 l 1.8397,0.0624\" id=\"path1873\" style=\"fill:none;stroke:#000000;stroke-width:0.264583px;stroke-linecap:butt;stroke-linejoin:miter;stroke-opacity:1\"/>\n",
       "<path d=\"m 136.51236,508.8188 -0.93544,-0.68599 -1.15371,0.65482 0.81071,0.84191\" id=\"path1875\" style=\"fill:none;stroke:#000000;stroke-width:0.264583px;stroke-linecap:butt;stroke-linejoin:miter;stroke-opacity:1\"/>\n",
       "<path d=\"m 133.48776,510.06607 -0.43654,-0.81073 -1.46552,0.31183 0.21826,0.68599\" id=\"path1877\" style=\"fill:none;stroke:#000000;stroke-width:0.264583px;stroke-linecap:butt;stroke-linejoin:miter;stroke-opacity:1\"/>\n",
       "</g><use xlink:href=\"#g_ojo_5\" id=\"mg_ojo_5\" transform=\"translate(-16.0 -4.0) scale(-1.7000000000000002 1.7000000000000002)\" />\n",
       "<g id=\"g_boca_9\" style=\"fill:ff5027;fill-opacity:1\" transform=\"translate(0 20.0) scale(1.4000000000000001)\">\n",
       "<path d=\"m 169.55382,240.63854 c -1.69781,-0.22962 -1.61548,-0.97146 -3.35139,-1.23472 -1.3895,0.0461 -2.35714,1.1902 -5.42396,1.71979 1.11213,1.67289 1.7456,1.67049 2.55764,2.29305 0.14713,0.19617 2.96956,1.45468 2.82222,1.49931 -0.16857,0.0511 3.54942,0.212 3.70417,0.0882 0,0 2.71594,0.30042 2.99861,0.17639 1.57821,-0.69247 6.30177,-4.01059 5.82083,-3.74826 -3.24253,-0.70642 -3.42529,-1.59231 -4.89479,-1.71979 -1.477,-0.24554 -1.75016,0.16171 -4.23333,0.92603 z\" id=\"path1408\" sodipodi:nodetypes=\"ccccscsccc\" style=\"fill:ff5027;fill-opacity:1;stroke:none;stroke-width:0.264583px;stroke-linecap:butt;stroke-linejoin:miter;stroke-opacity:1\"/>\n",
       "<path d=\"m 176.1243,242.40243 c -1.31479,1.11592 -3.09112,1.70436 -4.98298,2.16076\" id=\"path1410\" sodipodi:nodetypes=\"cc\" style=\"fill:ff5027;stroke:#fefefe;stroke-width:0.264583px;stroke-linecap:butt;stroke-linejoin:miter;stroke-opacity:0.53333336;fill-opacity:1\"/>\n",
       "<path d=\"m 158.75,240.94722 c 1.48879,1.10138 5.35442,0.0158 7.58472,0.74965 1.18711,0.10575 1.67952,1.03027 2.83324,1.15756 1.93244,-0.14803 0.99091,-0.35075 3.73725,-1.51033 3.68141,-0.0849 4.91387,0.31181 6.96736,0.0441\" id=\"path1406\" sodipodi:nodetypes=\"ccccc\" style=\"fill:ff5027;stroke:#000000;stroke-width:0.264583px;stroke-linecap:butt;stroke-linejoin:miter;stroke-opacity:1;fill-opacity:1\"/>\n",
       "</g>\n",
       "<g id=\"g_nariz_8\" transform=\"translate(0 18.0) scale(0.8)\">\n",
       "<path d=\"m 245.2026,129.48047 c -1.37061,0.0127 -2.55994,-0.2691 -4.59713,0.82682\" id=\"path2220\" sodipodi:nodetypes=\"cc\" style=\"fill:none;stroke:#000000;stroke-width:0.264583px;stroke-linecap:butt;stroke-linejoin:miter;stroke-opacity:1\"/>\n",
       "<path d=\"m 239.28255,131.03489 c -3.67744,3.74322 0.99706,5.48343 1.88516,3.80339\" id=\"path2222\" sodipodi:nodetypes=\"cc\" style=\"fill:none;stroke:#000000;stroke-width:0.264583px;stroke-linecap:butt;stroke-linejoin:miter;stroke-opacity:1\"/>\n",
       "<path d=\"m 243.01979,124.42031 c -0.19325,1.74897 -0.33419,3.49048 -1.12448,5.32474\" id=\"path2224\" sodipodi:nodetypes=\"cc\" style=\"fill:none;stroke:#000000;stroke-width:0.264583px;stroke-linecap:butt;stroke-linejoin:miter;stroke-opacity:1\"/>\n",
       "<path d=\"m 246.95547,135.03672 c 2.62957,1.24026 4.61782,-0.57189 1.5875,-3.86953\" id=\"path2226\" sodipodi:nodetypes=\"cc\" style=\"fill:none;stroke:#000000;stroke-width:0.264583px;stroke-linecap:butt;stroke-linejoin:miter;stroke-opacity:1\"/>\n",
       "<path d=\"m 247.78229,134.50755 c -2.21859,-0.20379 -1.18613,1.13698 -3.6711,1.32292 -3.42378,-0.39993 -2.27465,-1.05965 -3.86953,-1.38907\" id=\"path2228\" sodipodi:nodetypes=\"ccc\" style=\"fill:none;stroke:#000000;stroke-width:0.264583px;stroke-linecap:butt;stroke-linejoin:miter;stroke-opacity:1\"/>\n",
       "<path d=\"m 247.50116,131.54752 c -0.0903,-0.40586 -0.44284,-0.72849 -0.7772,-0.97565 -0.44778,-0.331 -1.00531,-0.51948 -1.55443,-0.61185 -0.52229,-0.0879 -1.07299,-0.0594 -1.5875,0.0662 -0.45516,0.11115 -0.86501,0.36549 -1.27331,0.59531 -0.13855,0.078 -0.33228,0.11931 -0.39687,0.26459 -0.077,0.17309 -0.0616,0.43956 0.0827,0.56224 0.26464,0.22493 0.69462,-0.0261 1.0418,-0.0165 0.46402,0.0129 0.93818,-0.0112 1.38906,0.0992 0.35011,0.0857 0.67404,0.26053 0.99219,0.42995 0.36979,0.19693 0.64138,0.63699 1.05833,0.67799 0.30051,0.0296 0.64519,-0.10289 0.84336,-0.33073 0.17111,-0.19673 0.23852,-0.50625 0.18187,-0.76075 z\" id=\"path2230\" sodipodi:nodetypes=\"aaaaaaaaaaaaa\" style=\"fill:#fefefe;stroke:none;stroke-width:0.264583px;stroke-linecap:butt;stroke-linejoin:miter;stroke-opacity:1;fill-opacity:0.53333336\"/>\n",
       "</g>\n",
       "<g id=\"g_ceja_6\" transform=\"translate(-5.0 -16.0) scale(0.8)\">\n",
       "<path d=\"m 213.69513,545.48264 c -1.1274,-1.49565 -1.98922,-3.10195 -5.84288,-3.46165 -2.18926,0.14519 -4.64517,0.73835 -8.29027,3.32936 l -0.79375,-0.11025 c 0.55998,1.67213 1.71854,2.11989 3.57187,1.14652 1.30047,-0.84091 2.37408,-1.69747 5.31372,-2.42533 2.669,-0.57208 4.34612,0.48952 6.04131,1.52135 z\" id=\"path2326\" sodipodi:nodetypes=\"ccccccc\" style=\"fill:a68469;stroke:#000000;stroke-width:0.264583px;stroke-linecap:butt;stroke-linejoin:miter;stroke-opacity:1;fill-opacity:1\"/>\n",
       "<path d=\"m 201.78888,546.43072 c -1.08058,0.0627 -1.85163,-0.26146 -2.2269,-1.08037\" id=\"path2328\" sodipodi:nodetypes=\"cc\" style=\"fill:none;stroke:#fefefe;stroke-width:0.264583px;stroke-linecap:butt;stroke-linejoin:miter;stroke-opacity:0.13333334\"/>\n",
       "<path d=\"m 202.3842,545.85745 c -0.66016,0.45313 -2.23491,-0.58669 -1.94028,-0.90398\" id=\"path2330\" sodipodi:nodetypes=\"cc\" style=\"fill:none;stroke:#fefefe;stroke-width:0.264583px;stroke-linecap:butt;stroke-linejoin:miter;stroke-opacity:0.13333334\"/>\n",
       "<path d=\"m 203.08975,545.43853 c -0.68398,-0.29266 -0.9507,-0.82375 -1.23472,-1.34495\" id=\"path2332\" sodipodi:nodetypes=\"cc\" style=\"fill:none;stroke:#fefefe;stroke-width:0.264583px;stroke-linecap:butt;stroke-linejoin:miter;stroke-opacity:0.13333334\"/>\n",
       "<path d=\"m 204.08194,544.97551 c -0.0283,-0.47024 -0.0602,-0.93615 0.48507,-2.09462\" id=\"path2334\" sodipodi:nodetypes=\"cc\" style=\"fill:none;stroke:#fefefe;stroke-width:0.264583px;stroke-linecap:butt;stroke-linejoin:miter;stroke-opacity:0.13333334\"/>\n",
       "<path d=\"m 204.94184,544.53453 c -0.22703,-0.3682 1.33972,-2.04863 1.52135,-2.02845\" id=\"path2336\" sodipodi:nodetypes=\"cc\" style=\"fill:none;stroke:#fefefe;stroke-width:0.264583px;stroke-linecap:butt;stroke-linejoin:miter;stroke-opacity:0.13333334\"/>\n",
       "<path d=\"m 206.04427,544.15972 c 0.59442,-0.77282 1.33991,-1.35682 2.4033,-1.54342\" id=\"path2338\" sodipodi:nodetypes=\"cc\" style=\"fill:none;stroke:#fefefe;stroke-width:0.264583px;stroke-linecap:butt;stroke-linejoin:miter;stroke-opacity:0.13333334\"/>\n",
       "<path d=\"m 208.53576,543.52031 c 0.11576,-0.42988 2.50064,-0.7013 2.46945,-0.26459\" id=\"path2340\" sodipodi:nodetypes=\"cc\" style=\"fill:none;stroke:#fefefe;stroke-width:0.264583px;stroke-linecap:butt;stroke-linejoin:miter;stroke-opacity:0.13333334\"/>\n",
       "</g><use xlink:href=\"#g_ceja_6\" id=\"mg_ceja_6\" transform=\"translate(5.0 -16.0) scale(-0.8 0.8)\" />\n",
       "\n",
       "\n",
       "<g id=\"g_lente_12\" transform=\"translate(0 -8.0) scale(1.01)\">\n",
       "<path d=\"m 116.05733,769.05913 c -0.0957,-2.44335 1.09963,-3.73904 3.11815,-4.30305 2.44099,-0.55767 6.45524,-0.68731 7.60827,1.6838 0.53034,2.59341 -0.12028,3.78793 -2.55688,6.23629 -2.46907,2.03779 -4.77487,2.52815 -7.10937,-0.12473 -0.83035,-1.1641 -0.83176,-2.32821 -1.06017,-3.49231 z\" id=\"path2050\" sodipodi:nodetypes=\"cccccc\" style=\"fill:28be9c;fill-opacity:1;stroke:#000000;stroke-width:0.264583px;stroke-linecap:butt;stroke-linejoin:miter;stroke-opacity:1\"/>\n",
       "<path d=\"m 126.78375,766.43988 c 0.76506,-0.91688 1.49429,-0.79429 2.20062,-0.008\" id=\"path2069\" sodipodi:nodetypes=\"cc\" style=\"fill:none;stroke:#000000;stroke-width:0.264583px;stroke-linecap:butt;stroke-linejoin:miter;stroke-opacity:1\"/>\n",
       "<path d=\"m 115.46857,768.94528 0.58876,0.11387\" id=\"path2071\" style=\"fill:none;stroke:#000000;stroke-width:1.0583333;stroke-linecap:butt;stroke-linejoin:miter;stroke-opacity:1;stroke-miterlimit:4;stroke-dasharray:none\"/>\n",
       "<path d=\"m 139.71079,769.05113 c 0.0957,-2.44335 -1.09963,-3.73904 -3.11815,-4.30305 -2.44099,-0.55767 -6.45524,-0.68731 -7.60827,1.6838 -0.53034,2.59341 0.12028,3.78793 2.55688,6.23629 2.46907,2.03779 4.77487,2.52815 7.10937,-0.12473 0.83035,-1.1641 0.83176,-2.32821 1.06017,-3.49231 z\" id=\"path2073\" sodipodi:nodetypes=\"cccccc\" style=\"fill:28be9c;fill-opacity:1;stroke:#000000;stroke-width:0.264583px;stroke-linecap:butt;stroke-linejoin:miter;stroke-opacity:1\"/>\n",
       "<path d=\"m 140.29955,768.93728 -0.58876,0.11387\" id=\"path2075\" style=\"fill:none;stroke:#000000;stroke-width:1.05833;stroke-linecap:butt;stroke-linejoin:miter;stroke-miterlimit:4;stroke-dasharray:none;stroke-opacity:1\"/>\n",
       "</g>\n",
       "<g id=\"g_pelo_4\" transform=\"translate(1 1) scale(1.01)\">\n",
       "<path d=\"m 200.99513,878.63711 c 1.67377,1.00216 3.00774,1.03102 5.64445,0.35279 0.41623,0.4101 0.71805,0.13376 1.05833,0.0882 0.3535,0.74054 0.99617,1.36541 1.76389,1.94027 1.12631,0.64089 0.43109,2.5498 0.52917,3.83645 0.72544,-0.74014 0.93856,-1.75972 0.74965,-2.9986 0.11059,-1.00654 -0.0803,-2.3146 -0.88195,-4.23333 -0.36612,-1.19564 -0.99382,-1.54966 -2.55764,-3.13089 -0.24696,-1.68263 -1.72121,-2.15455 -3.79236,-2.68994 -1.42821,-0.6942 -2.75064,-0.59496 -4.01284,-0.0441 -1.15746,0.10187 -2.20414,0.46222 -2.86632,1.71976 -1.18671,1.11418 -2.36661,2.2488 -2.82223,5.55625 -1.04533,4.05905 1.93229,6.68034 1.5875,9.03994 1.08165,4.44708 -4.70473,5.57488 -1.19062,10.98021 1.57032,0.64086 3.2935,0.28809 5.02708,-0.13229 0.15953,-1.18231 0.10096,-2.63723 0.88195,-3.04271 l 0.13229,-2.91042 c -1.14642,-0.90727 -3.35506,-2.92751 -3.88056,-9.3486 l 0.61736,0.61735 c 0.25501,-0.54659 0.43124,-0.14774 0.83785,-2.51354 0.32338,-0.37202 0.64676,-0.78311 0.97014,-1.80798 0.47397,0.0541 0.78467,-0.17758 0.92604,-0.70556 0.80534,0.1248 0.93025,-0.31742 1.27882,-0.57326 z\" id=\"path2851\" sodipodi:nodetypes=\"ccccccccccccccccccccccc\" style=\"fill:080806;stroke:none;stroke-width:0.264583px;stroke-linecap:butt;stroke-linejoin:miter;stroke-opacity:1;fill-opacity:1\"/>\n",
       "<path d=\"m 207.30103,874.49201 c -0.9551,-0.77399 -2.70208,-1.07285 -4.90228,-1.09977 -1.60532,0.37379 -3.26557,0.37688 -4.55249,2.89986 -1.33927,1.87901 -1.34549,4.64672 -1.48134,7.32801\" id=\"path2853\" sodipodi:nodetypes=\"cccc\" style=\"fill:none;stroke:#000000;stroke-width:0.79374998;stroke-linecap:butt;stroke-linejoin:miter;stroke-opacity:0.26666668;stroke-miterlimit:4;stroke-dasharray:none\"/>\n",
       "<path d=\"m 194.72812,898.64921 c -0.39415,-1.34288 -0.93725,-2.62369 -0.37418,-4.36541 0.4989,-0.87641 0.99781,-2.72181 1.49671,-4.11594 0.4423,1.23466 1.08517,2.25331 -0.56127,5.73738 -0.28241,2.43013 0.72457,2.55777 1.55907,2.99342 -0.51587,-1.182 -0.96912,-2.37742 -0.34299,-3.80413 l 0.71717,-2.74396 c -0.1459,2.80711 0.36943,4.29174 0.77954,5.98683 0.51068,-1.5075 0.0989,-3.5275 -0.0935,-5.42557 0.39087,1.2564 0.99636,1.76162 1.09135,4.05357\" id=\"path2855\" sodipodi:nodetypes=\"cccccccccc\" style=\"fill:none;stroke:#ffffff;stroke-width:0.264583px;stroke-linecap:butt;stroke-linejoin:miter;stroke-opacity:0.266667\"/>\n",
       "<path d=\"m 194.94639,881.62415 c -0.0668,-1.47593 -0.28395,-2.95185 0.28063,-4.42778 0.17215,-0.77094 0.40187,-1.54828 1.30962,-2.40096 1.09299,-1.45269 1.84955,-1.81195 2.61924,-2.2139 1.34023,-0.52165 2.28669,-0.60029 2.96224,-0.37418 1.24669,0.0195 2.34868,0.24159 3.1805,0.84191 -1.54506,-0.0363 -1.78402,-0.64265 -5.02021,-0.21826 -3.45098,1.71498 -3.21519,3.42995 -4.24067,5.14493\" id=\"path2857\" sodipodi:nodetypes=\"cccccccc\" style=\"fill:none;stroke:#ffffff;stroke-width:0.264583px;stroke-linecap:butt;stroke-linejoin:miter;stroke-opacity:0.266667\"/>\n",
       "<path d=\"m 197.08231,883.52621 c 0.0469,-2.31157 0.2081,-4.21466 0.54568,-5.48794 0.0417,0.88108 0.0211,1.79682 0.42095,2.47894 0.0596,-2.43001 0.46472,-3.58139 0.93544,-4.49014 -0.20477,1.05928 -0.14349,2.23258 -0.0624,3.41437 0.36342,-1.53464 0.80108,-2.96533 1.37198,-4.20949 -0.11304,1.17319 -0.26073,2.34144 -0.0935,3.55467 0.18481,-1.50103 0.62364,-2.92585 1.63703,-4.1783 -0.85901,2.51458 0.32312,3.6684 1.93325,4.53689 1.75087,-0.60001 1.18905,-2.58764 0.71717,-4.5213 0.90244,0.80146 1.83105,1.56675 1.35639,4.27185 0.58811,-0.88764 1.04975,-1.98304 1.06017,-3.81973 0.38619,1.20296 0.87311,2.38494 0.29622,3.78854 0.66398,-0.5045 0.90892,-1.6236 0.95104,-3.04017 0.75482,1.20614 1.51633,2.41064 0.60804,4.02241 l 1.02898,-1.12255 c 0.31564,0.78665 0.1396,1.32747 -0.0312,1.8709\" id=\"path2859\" sodipodi:nodetypes=\"ccccccccccccccccc\" style=\"fill:none;stroke:#ffffff;stroke-width:0.264583px;stroke-linecap:butt;stroke-linejoin:miter;stroke-opacity:0.266667\"/>\n",
       "</g>\n",
       "</svg>"
      ],
      "text/plain": [
       "<IPython.core.display.HTML object>"
      ]
     },
     "metadata": {},
     "output_type": "display_data"
    }
   ],
   "source": [
    "from IPython.display import display, HTML\n",
    "import xpd_orm as orm\n",
    "\n",
    "conexion =  orm.Conexion(avy.PATH_BDD)\n",
    "avatar_aleatorio = avy.generarPrendasByGenero(conexion, 2)\n",
    "conexion.close()\n",
    "svg = avy.generarSvgAvatar(avatar_aleatorio)\n",
    "display(HTML('<h1>Avatar Aleatorio!</h1><br>'+svg))"
   ]
  },
  {
   "cell_type": "code",
   "execution_count": null,
   "id": "73dbf565",
   "metadata": {},
   "outputs": [],
   "source": [
    "avy.Prendas.getNamedQuerySql('findByParte')"
   ]
  },
  {
   "cell_type": "code",
   "execution_count": null,
   "id": "124cbcf6",
   "metadata": {},
   "outputs": [],
   "source": [
    "avy.PrendasAvatar.getNamedQuerySql('findByAvatar')"
   ]
  },
  {
   "cell_type": "code",
   "execution_count": null,
   "id": "094b9e9d",
   "metadata": {},
   "outputs": [],
   "source": []
  }
 ],
 "metadata": {
  "kernelspec": {
   "display_name": "Python 3 (ipykernel)",
   "language": "python",
   "name": "python3"
  },
  "language_info": {
   "codemirror_mode": {
    "name": "ipython",
    "version": 3
   },
   "file_extension": ".py",
   "mimetype": "text/x-python",
   "name": "python",
   "nbconvert_exporter": "python",
   "pygments_lexer": "ipython3",
   "version": "3.10.2"
  }
 },
 "nbformat": 4,
 "nbformat_minor": 5
}
