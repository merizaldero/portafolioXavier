{
 "cells": [
  {
   "cell_type": "code",
   "execution_count": null,
   "id": "12dc938c",
   "metadata": {},
   "outputs": [],
   "source": [
    "import numpy as np\n",
    "import pandas as pd\n",
    "from bs4 import BeautifulSoup\n",
    "from time import sleep\n",
    "from math import sqrt, atan, sin , cos\n",
    "import pyautogui as gui\n",
    "import pyperclip\n",
    "from tqdm.notebook import tqdm"
   ]
  },
  {
   "cell_type": "markdown",
   "id": "36a90fc5",
   "metadata": {},
   "source": [
    "Definir Archivo SVG de Entrada:"
   ]
  },
  {
   "cell_type": "code",
   "execution_count": null,
   "id": "71e2a823",
   "metadata": {},
   "outputs": [],
   "source": [
    "PATH_SVG = \"C:\\\\Users\\\\XAVIER\\\\3D Objects\\\\abadia\\\\abadia.roblox.svg\"\n",
    "LAYER_SVG = \"layer1\""
   ]
  },
  {
   "cell_type": "markdown",
   "id": "15281ce5",
   "metadata": {},
   "source": [
    "- Poner pantallas 50/50 con Roblox Studio\n",
    "- Ejecutar el siguiente bloque\n",
    "- En los siguientes 5 segundos situar el cursor en la linea de comando de roblox"
   ]
  },
  {
   "cell_type": "code",
   "execution_count": null,
   "id": "c43bc403",
   "metadata": {},
   "outputs": [],
   "source": [
    "# Posiciones referenciales de iconos\n",
    "# obtener desde consola usando\n",
    "# import pyautogui\n",
    "# pyautogui.displayMousePosition()\n",
    "print(\"Esperando Posicion ...\")\n",
    "for x in range(5,0,-1):\n",
    "    print(x, end=\" . \")\n",
    "    sleep(1)\n",
    "print(\"\\nSe procede a tomar posición.\")\n",
    "\n",
    "POS_CONSOLA = gui.position()\n",
    "print(f\"Consola de Roblox Studio definida en {POS_CONSOLA}\")"
   ]
  },
  {
   "cell_type": "code",
   "execution_count": null,
   "id": "40ec4d51",
   "metadata": {},
   "outputs": [],
   "source": [
    "# PLANTILLA_COMANDO = \"\"\"do local function createPart(name, size, position, color, orientation, material, parent, transparency) local p = Instance.new(\"Part\"); p.Name = name; p.Size = size; p.Position = position; p.BrickColor = BrickColor.new(color); p.Material = material or Enum.Material.Plastic; p.Parent = parent or workspace; p.Anchored = true; p.Transparency = transparency or 0; p.Orientation = orientation or Vector3.new(0, 0, 0); return p end; createPart(\"{nombre}\", Vector3.new({ancho}, {espesor}, {alto}), Vector3.new({x}, {z}, {y}), Vector3.new(0, {angulo_z}, 0) ,\"Dark stone grey\", Enum.Material.SmoothPlastic ) end \"\"\"\n",
    "PLANTILLA_COMANDO = \"\"\"local p = Instance.new(\"Part\"); p.Name = \"{nombre}\"; p.Size = Vector3.new( {ancho}, {espesor}, {alto}) ; p.Position = Vector3.new( {x}, {z}, {y}) ; p.BrickColor = BrickColor.new(\"Dark stone grey\"); p.Material = Enum.Material.Plastic; p.Parent = workspace; p.Anchored = true; p.Transparency = 0; p.Orientation = Vector3.new(0, {angulo_z}, 0)\"\"\"\n",
    "\n",
    "def crear_caja( x, y, z, ancho, alto, espesor, angulo_z, nombre=\"Pared\"):\n",
    "    \n",
    "    gui.click( POS_CONSOLA[0], POS_CONSOLA[1] )\n",
    "    sleep(0.5)\n",
    "\n",
    "    # Borra script anterior\n",
    "    gui.hotkey('ctrl', 'a')\n",
    "    sleep(0.5)\n",
    "    \n",
    "    mensaje = PLANTILLA_COMANDO.format( nombre = nombre, x = x, y = y, z = z, ancho = ancho, alto = alto, espesor = espesor, angulo_z = angulo_z )\n",
    "    pyperclip.copy(mensaje)\n",
    "    gui.hotkey('ctrl', 'v')\n",
    "    \n",
    "    sleep(0.5)\n",
    "    \n",
    "    gui.press('enter')\n",
    "    \n",
    "    sleep(0.5)\n",
    "\n",
    "    return True"
   ]
  },
  {
   "cell_type": "markdown",
   "id": "8af965ab",
   "metadata": {},
   "source": [
    "Prueba de Creación de Caja"
   ]
  },
  {
   "cell_type": "code",
   "execution_count": null,
   "id": "bd6ef08c",
   "metadata": {},
   "outputs": [],
   "source": [
    "crear_caja( x = 25, y = 0, z = 0, ancho = 25, alto = 30, espesor = 5, angulo_z = 45 )"
   ]
  },
  {
   "cell_type": "code",
   "execution_count": null,
   "id": "5661e559",
   "metadata": {},
   "outputs": [],
   "source": [
    "a = np.array([1,2,3])\n",
    "print(a)"
   ]
  },
  {
   "cell_type": "code",
   "execution_count": null,
   "id": "58488c9c",
   "metadata": {},
   "outputs": [],
   "source": [
    "def importar_svg(nombre_capa = 'layer7', path_archivo = 'ChullaQuito.svg'):\n",
    "    archivo = open( path_archivo, 'rt')    \n",
    "    sopa = BeautifulSoup(archivo,'xml')\n",
    "    archivo.close()\n",
    "    capa = sopa.svg.find('g', id = nombre_capa)\n",
    "    rectangulos = capa.find_all('rect')\n",
    "    valores = [ [ x['x'], x['y'], x['width'], x['height'], x['transform'] if 'transform' in x.attrs else 'rotate(0)'  ] for x in rectangulos ]\n",
    "    valores = [ [ float(x[0]), float(x[1]), float(x[2]), float(x[3]), float(x[4][7:-1]) ] for x in valores ]\n",
    "    return np.array(valores)\n",
    "\n",
    "def obtener_viewbox(path_archivo):\n",
    "    archivo = open( path_archivo, 'rt')    \n",
    "    sopa = BeautifulSoup(archivo,'xml')\n",
    "    archivo.close()\n",
    "    viewBox = [float(x) for x in sopa.svg[\"viewBox\"].split()]\n",
    "    return viewBox\n",
    "    "
   ]
  },
  {
   "cell_type": "code",
   "execution_count": null,
   "id": "9009fdca",
   "metadata": {},
   "outputs": [],
   "source": [
    "coordenadas1 = importar_svg( nombre_capa = LAYER_SVG, path_archivo = PATH_SVG )\n",
    "coordenadas1"
   ]
  },
  {
   "cell_type": "code",
   "execution_count": null,
   "id": "a50f1e6d",
   "metadata": {},
   "outputs": [],
   "source": [
    "viewbox1 = obtener_viewbox(PATH_SVG)\n",
    "viewbox1"
   ]
  },
  {
   "cell_type": "code",
   "execution_count": null,
   "id": "b086de3f",
   "metadata": {},
   "outputs": [],
   "source": [
    "def adaptar_coordenadas( vector, viewbox = [0.0, 0.0, 256.0, 256.0], escala = 2.0 / 5 ):\n",
    "    # return [ vector[0] + vector[2] / 2, 256.0 - vector[1] - vector[3] / 2, vector[2], vector[3], - vector[4]  ]\n",
    "    radio = sqrt( (vector[0] + vector[2] / 2) ** 2 + (vector[1] + vector[3] / 2 ) ** 2 )\n",
    "    angulo_original_grados = atan( (vector[1] + vector[3] / 2 ) / (vector[0] + vector[2] / 2) ) * 180 / np.pi\n",
    "    # angulo_original_grados = atan( (vector[1] + vector[3] / 2 ) / radio ) * 180 / np.pi\n",
    "    nuevo_angulo_rads = (angulo_original_grados + vector[4]) * np.pi / 180\n",
    "    vector_0 = abs(radio * cos(nuevo_angulo_rads))\n",
    "    vector_1 = abs(radio * sin(nuevo_angulo_rads))\n",
    "    traslacion_x = viewbox[0] - (viewbox[2] - viewbox[0]) / 2.0\n",
    "    traslacion_y = viewbox[1] - (viewbox[3] - viewbox[1]) / 2.0\n",
    "    return [ (traslacion_x + vector_0) * escala, \n",
    "            (traslacion_y + vector_1) * escala , \n",
    "            vector[2] * escala, \n",
    "            vector[3] * escala,\n",
    "            - vector[4]  ]\n",
    "    #return [ vector_0 , vector_1 , vector[2], vector[3], - vector[4]  ]"
   ]
  },
  {
   "cell_type": "code",
   "execution_count": null,
   "id": "80f4e0a1",
   "metadata": {},
   "outputs": [],
   "source": [
    "coordenadas2 = [ adaptar_coordenadas(x, viewbox1) for x in coordenadas1]\n",
    "coordenadas2"
   ]
  },
  {
   "cell_type": "code",
   "execution_count": null,
   "id": "a293f050",
   "metadata": {},
   "outputs": [],
   "source": [
    "def construir_bloques(path_archivo = 'ChullaQuito.svg', nombre_capa = 'layer7', pendientes_anteriores = None, \n",
    "                      altura = 25 , espesor = 0.1 , escala = 5.0 / 2):\n",
    "    data = []\n",
    "    if not pendientes_anteriores is None:\n",
    "        data = pendientes_anteriores\n",
    "    else:\n",
    "        data = importar_svg( nombre_capa = nombre_capa, path_archivo = path_archivo )\n",
    "        viewbox = obtener_viewbox(path_archivo)\n",
    "        # data = [ adaptar_coordenadas(x, viewbox, escala) for x in data]\n",
    "    pendientes = []\n",
    "    #rpa.init(visual_automation = True, chrome_browser = False)\n",
    "    print('Iniciando secuencia');\n",
    "    secuencia_activa = True\n",
    "    for bloque in tqdm(data, desc=\"Construyendo Bloques...\"):\n",
    "        bloque_adaptado = adaptar_coordenadas(bloque, viewbox, escala)\n",
    "        if secuencia_activa == False:\n",
    "            pendientes.append(bloque)\n",
    "            continue\n",
    "        if not crear_caja( bloque_adaptado[0], bloque_adaptado[1], altura, bloque_adaptado[2], bloque_adaptado[3], espesor, bloque_adaptado[4] ):\n",
    "            print('Secuencia interrumpida')\n",
    "            pendientes.append(bloque)\n",
    "            secuencia_activa = False\n",
    "    print('Secuencia finalizada')\n",
    "    #rpa.close()\n",
    "    if len(pendientes) == 0:\n",
    "        pendientes = None\n",
    "    return pendientes_anteriores"
   ]
  },
  {
   "cell_type": "code",
   "execution_count": null,
   "id": "cacacabb",
   "metadata": {},
   "outputs": [],
   "source": [
    "pendientes = None"
   ]
  },
  {
   "cell_type": "code",
   "execution_count": null,
   "id": "cb85965b",
   "metadata": {},
   "outputs": [],
   "source": [
    "# Construir el piso\n",
    "pendientes = construir_bloques(path_archivo = PATH_SVG, nombre_capa = LAYER_SVG, \n",
    "                               pendientes_anteriores = pendientes, altura = 8, espesor = 5, escala = 7.5 )\n",
    "if not pendientes is None:\n",
    "    print(\"quedan {0} pendientes\".format(len(pendientes)))"
   ]
  },
  {
   "cell_type": "code",
   "execution_count": null,
   "id": "6fc3c543",
   "metadata": {},
   "outputs": [],
   "source": [
    "data = importar_svg( nombre_capa = LAYER_SVG, path_archivo = PATH_SVG )\n",
    "data = [ [y for y in x ] + adaptar_coordenadas(x) for x in data ]\n",
    "data = [ {'x':x[5], 'y':x[6], 'width':x[7], 'height':x[8], 'rotation':x[9], 'x1':x[0], 'y2':x[1], 'width1':x[2], 'height1':x[3], 'rotation1':x[4], } for x in data ]\n",
    "##for x in data:\n",
    "data = pd.DataFrame(data)\n",
    "data\n",
    "#vector_x = [[1,2], [4,5]]\n",
    "#vector_y = [[4,5]]\n",
    "#vector_z = [ x + [sum(x)] for x in vector_x ]\n",
    "#vector_z"
   ]
  },
  {
   "cell_type": "code",
   "execution_count": null,
   "id": "a1d30c81",
   "metadata": {},
   "outputs": [],
   "source": [
    "adaptar_coordenadas([-62.876225, 99.632347, 0.2, 6.2879076,-40.217861])"
   ]
  },
  {
   "cell_type": "code",
   "execution_count": null,
   "id": "3ffb960d",
   "metadata": {},
   "outputs": [],
   "source": [
    "adaptar_coordenadas([-62.876225, 99.632347, 0.2, 6.2879076,0])"
   ]
  },
  {
   "cell_type": "code",
   "execution_count": null,
   "id": "655dd484",
   "metadata": {},
   "outputs": [],
   "source": [
    "print('{0} a {1}\\n{2} a {3}'.format(data['x'].min(), data['x'].max(), data['y'].min(), data['y'].max())) "
   ]
  },
  {
   "cell_type": "code",
   "execution_count": null,
   "id": "7d8dc2c7",
   "metadata": {},
   "outputs": [],
   "source": []
  }
 ],
 "metadata": {
  "kernelspec": {
   "display_name": "Python 3 (ipykernel)",
   "language": "python",
   "name": "python3"
  },
  "language_info": {
   "codemirror_mode": {
    "name": "ipython",
    "version": 3
   },
   "file_extension": ".py",
   "mimetype": "text/x-python",
   "name": "python",
   "nbconvert_exporter": "python",
   "pygments_lexer": "ipython3",
   "version": "3.10.2"
  }
 },
 "nbformat": 4,
 "nbformat_minor": 5
}
