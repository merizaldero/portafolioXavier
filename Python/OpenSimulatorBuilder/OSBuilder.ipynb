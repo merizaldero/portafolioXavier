{
 "cells": [
  {
   "cell_type": "code",
   "execution_count": null,
   "id": "12dc938c",
   "metadata": {},
   "outputs": [],
   "source": [
    "import numpy as np\n",
    "import pandas as pd\n",
    "from bs4 import BeautifulSoup\n",
    "from time import sleep\n",
    "from math import sqrt, atan, sin , cos"
   ]
  },
  {
   "cell_type": "code",
   "execution_count": null,
   "id": "71e2a823",
   "metadata": {},
   "outputs": [],
   "source": [
    "PATH_SVG = \"C:\\\\Users\\\\XAVIER\\\\3D Objects\\\\abadia\\\\abadia.svg\"\n",
    "LAYER_SVG = \"layer1\""
   ]
  },
  {
   "cell_type": "code",
   "execution_count": null,
   "id": "c43bc403",
   "metadata": {},
   "outputs": [],
   "source": [
    "# Posiciones referenciales de iconos\n",
    "# obtener desde consola usando\n",
    "# import pyautogui\n",
    "# pyautogui.displayMousePosition()\n",
    "\n",
    "POS_ICONO_FIRESTORM = (809, 1055)\n",
    "POS_NUEVA_CAJA = (584, 234)"
   ]
  },
  {
   "cell_type": "code",
   "execution_count": null,
   "id": "40ec4d51",
   "metadata": {},
   "outputs": [],
   "source": [
    "import pyautogui as gui\n",
    "\n",
    "def gui_click(imagen):\n",
    "    if type(imagen) in [str, tuple]:\n",
    "        imagen = [imagen]\n",
    "    for img in imagen:\n",
    "        if type(img) is tuple:\n",
    "            gui.click( img[0], img[1])\n",
    "            return img\n",
    "        posicion = gui.locateOnScreen(img)\n",
    "        if not posicion:\n",
    "            continue\n",
    "        x, y, ancho, alto = posicion \n",
    "        gui.click( x + ancho / 2, y + alto / 2)\n",
    "        return ( x + ancho / 2, y + alto / 2)\n",
    "    return False\n",
    "\n",
    "def crear_caja( x, y, z, ancho, alto, espesor, angulo_z):\n",
    "    # Paso 1    \n",
    "    if not gui_click(['ui/icono_firestorm.png', POS_ICONO_FIRESTORM]):\n",
    "        return False\n",
    "    sleep(0.5)\n",
    "    \n",
    "    # Paso 2\n",
    "    gui.hotkey('ctrl', 'b')\n",
    "    sleep(0.5)\n",
    "    \n",
    "    # Paso 3\n",
    "    if not gui_click(['ui/nueva_caja.png','ui/nueva_caja1.png','ui/nueva_caja2.png', POS_NUEVA_CAJA]):\n",
    "        return False\n",
    "    sleep(0.5)\n",
    "    \n",
    "    # Paso 3 (continuacion)\n",
    "    mouse_x, mouse_y = gui.position()\n",
    "    gui.moveTo(mouse_x - 50, mouse_y +200 )\n",
    "    sleep(2.0)\n",
    "    gui.click()\n",
    "\n",
    "    sleep(2.0)\n",
    "    \n",
    "    # Paso 4\n",
    "    #if not gui_click(['ui/objeto_tab.png','ui/objeto_tab1.png','ui/objeto_tab2.png','ui/objeto_tab3.png']):\n",
    "    mouse_x, mouse_y = gui.position()\n",
    "    gui.moveTo(mouse_x + 125, mouse_y - 15 )\n",
    "    sleep(2.0)\n",
    "    gui.click()\n",
    "        #return False\n",
    "    sleep(0.5)\n",
    "    \n",
    "    # Pasos 5, 6, 7 y 8\n",
    "    gui.press('tab')\n",
    "    gui.press('tab')\n",
    "    gui.press('tab')\n",
    "    gui.press('tab')\n",
    "    gui.write('{0:.5f}'.format(x))\n",
    "    gui.press('tab')\n",
    "    gui.write('{0:.5f}'.format(y))\n",
    "    gui.press('tab')\n",
    "    gui.write('{0:.5f}'.format(z))\n",
    "    gui.press('tab')\n",
    "    gui.write('{0:.5f}'.format(ancho))\n",
    "    gui.press('tab')\n",
    "    gui.write('{0:.5f}'.format(alto))\n",
    "    gui.press('tab')\n",
    "    gui.write('{0:.5f}'.format(espesor))\n",
    "    gui.press('tab')\n",
    "    gui.press('tab')\n",
    "    gui.press('tab')\n",
    "    gui.write('{0:.5f}'.format(angulo_z))\n",
    "    sleep(3.0)\n",
    "    \n",
    "    # Paso 9\n",
    "    gui.hotkey('ctrl', 'b')\n",
    "    sleep(0.5)\n",
    "    \n",
    "    # Paso 10\n",
    "    gui.hotkey('alt', 'tab')\n",
    "    sleep(0.5)\n",
    "    print(\"Caja creada en posicion <{0:.5f}, {1:.5f}, {2:.5f}> ; tamaño: {3:.5f} x {4:.5f} x {5:.5f} ; angulo: {6:.5f}\".format( x, y, z, ancho, alto, espesor, angulo_z) )\n",
    "    sleep(1.0)\n",
    "    return True"
   ]
  },
  {
   "cell_type": "markdown",
   "id": "8af965ab",
   "metadata": {},
   "source": [
    "rpa.init(visual_automation = True, chrome_browser = False)\n",
    "crear_caja( x = 133, y = 220, z = 23 , ancho = 3, alto = 2 , espesor = 1, angulo_z = 0)\n",
    "crear_caja( x = 130, y = 220, z = 22 , ancho = 1, alto = 2.5 , espesor = 0.1, angulo_z = 30)\n",
    "crear_caja( x = 135, y = 220, z = 22 , ancho = 2, alto = 1 , espesor = 0.75, angulo_z = 30)\n",
    "\n",
    "print('Secuencia finalizada')\n",
    "rpa.close()"
   ]
  },
  {
   "cell_type": "code",
   "execution_count": null,
   "id": "58488c9c",
   "metadata": {},
   "outputs": [],
   "source": [
    "def importar_svg(nombre_capa = 'layer7', path_archivo = 'ChullaQuito.svg'):\n",
    "    archivo = open( path_archivo, 'rt')    \n",
    "    sopa = BeautifulSoup(archivo,'xml')\n",
    "    archivo.close()\n",
    "    capa = sopa.svg.find('g', id = nombre_capa)\n",
    "    rectangulos = capa.find_all('rect')\n",
    "    rectangulos\n",
    "    valores = [ [ x['x'], x['y'], x['width'], x['height'], x['transform'] if 'transform' in x.attrs else 'rotate(0)'  ] for x in rectangulos ]\n",
    "    valores = [ [ float(x[0]), float(x[1]), float(x[2]), float(x[3]), float(x[4][7:-1]) ] for x in valores ]\n",
    "    return np.array(valores)"
   ]
  },
  {
   "cell_type": "code",
   "execution_count": null,
   "id": "9009fdca",
   "metadata": {},
   "outputs": [],
   "source": [
    "importar_svg( nombre_capa = LAYER_SVG, path_archivo = PATH_SVG )"
   ]
  },
  {
   "cell_type": "code",
   "execution_count": null,
   "id": "b086de3f",
   "metadata": {},
   "outputs": [],
   "source": [
    "def adaptar_coordenadas( vector ):\n",
    "    # return [ vector[0] + vector[2] / 2, 256.0 - vector[1] - vector[3] / 2, vector[2], vector[3], - vector[4]  ]\n",
    "    radio = sqrt( (vector[0] + vector[2] / 2) ** 2 + (vector[1] + vector[3] / 2 ) ** 2 )\n",
    "    angulo_original_grados = atan( (vector[1] + vector[3] / 2 ) / (vector[0] + vector[2] / 2) ) * 180 / np.pi\n",
    "    # angulo_original_grados = atan( (vector[1] + vector[3] / 2 ) / radio ) * 180 / np.pi\n",
    "    nuevo_angulo_rads = (angulo_original_grados + vector[4]) * np.pi / 180\n",
    "    vector_0 = abs(radio * cos(nuevo_angulo_rads))\n",
    "    vector_1 = abs(radio * sin(nuevo_angulo_rads))\n",
    "    return [ vector_0 , 256.0 - vector_1 , vector[2], vector[3], - vector[4]  ]\n",
    "    #return [ vector_0 , vector_1 , vector[2], vector[3], - vector[4]  ]"
   ]
  },
  {
   "cell_type": "code",
   "execution_count": null,
   "id": "a293f050",
   "metadata": {},
   "outputs": [],
   "source": [
    "def construir_bloques(path_archivo = 'ChullaQuito.svg', nombre_capa = 'layer7', pendientes_anteriores = None, \n",
    "                      altura = 25 , espesor = 0.1 ):\n",
    "    data = []\n",
    "    if not pendientes_anteriores is None:\n",
    "        data = pendientes_anteriores\n",
    "    else:\n",
    "        data = importar_svg( nombre_capa = nombre_capa, path_archivo = path_archivo )\n",
    "        data = [ adaptar_coordenadas(x) for x in data]\n",
    "    pendientes = []\n",
    "    #rpa.init(visual_automation = True, chrome_browser = False)\n",
    "    print('Iniciando secuencia');\n",
    "    secuencia_activa = True\n",
    "    for bloque in data:\n",
    "        if secuencia_activa == False:\n",
    "            pendientes.append(bloque)\n",
    "            continue\n",
    "        if not crear_caja( bloque[0], bloque[1], altura, bloque[2], bloque[3], espesor, bloque[4] ):\n",
    "            print('Secuencia interrumpida')\n",
    "            pendientes.append(bloque)\n",
    "            secuencia_activa = False\n",
    "    print('Secuencia finalizada')\n",
    "    #rpa.close()\n",
    "    if len(pendientes) == 0:\n",
    "        pendientes = None\n",
    "    return pendientes_anteriores"
   ]
  },
  {
   "cell_type": "code",
   "execution_count": null,
   "id": "cacacabb",
   "metadata": {},
   "outputs": [],
   "source": [
    "pendientes = None"
   ]
  },
  {
   "cell_type": "code",
   "execution_count": null,
   "id": "cb85965b",
   "metadata": {},
   "outputs": [],
   "source": [
    "# Construir el piso\n",
    "pendientes = construir_bloques(path_archivo = PATH_SVG, nombre_capa = LAYER_SVG, \n",
    "                               pendientes_anteriores = pendientes, altura = 66.0, espesor = 4.0)\n",
    "if not pendientes is None:\n",
    "    print(\"quedan {0} pendientes\".format(len(pendientes)))"
   ]
  },
  {
   "cell_type": "code",
   "execution_count": null,
   "id": "6fc3c543",
   "metadata": {},
   "outputs": [],
   "source": [
    "data = importar_svg( nombre_capa = LAYER_SVG, path_archivo = PATH_SVG )\n",
    "data = [ [y for y in x ] + adaptar_coordenadas(x) for x in data ]\n",
    "data = [ {'x':x[5], 'y':x[6], 'width':x[7], 'height':x[8], 'rotation':x[9], 'x1':x[0], 'y2':x[1], 'width1':x[2], 'height1':x[3], 'rotation1':x[4], } for x in data ]\n",
    "##for x in data:\n",
    "data = pd.DataFrame(data)\n",
    "data\n",
    "#vector_x = [[1,2], [4,5]]\n",
    "#vector_y = [[4,5]]\n",
    "#vector_z = [ x + [sum(x)] for x in vector_x ]\n",
    "#vector_z"
   ]
  },
  {
   "cell_type": "code",
   "execution_count": null,
   "id": "a1d30c81",
   "metadata": {},
   "outputs": [],
   "source": [
    "adaptar_coordenadas([-62.876225, 99.632347, 0.2, 6.2879076,-40.217861])"
   ]
  },
  {
   "cell_type": "code",
   "execution_count": null,
   "id": "3ffb960d",
   "metadata": {},
   "outputs": [],
   "source": [
    "adaptar_coordenadas([-62.876225, 99.632347, 0.2, 6.2879076,0])"
   ]
  },
  {
   "cell_type": "code",
   "execution_count": null,
   "id": "655dd484",
   "metadata": {},
   "outputs": [],
   "source": [
    "print('{0} a {1}\\n{2} a {3}'.format(data['x'].min(), data['x'].max(), data['y'].min(), data['y'].max())) "
   ]
  },
  {
   "cell_type": "code",
   "execution_count": null,
   "id": "7d8dc2c7",
   "metadata": {},
   "outputs": [],
   "source": []
  }
 ],
 "metadata": {
  "kernelspec": {
   "display_name": "Python 3 (ipykernel)",
   "language": "python",
   "name": "python3"
  },
  "language_info": {
   "codemirror_mode": {
    "name": "ipython",
    "version": 3
   },
   "file_extension": ".py",
   "mimetype": "text/x-python",
   "name": "python",
   "nbconvert_exporter": "python",
   "pygments_lexer": "ipython3",
   "version": "3.10.2"
  }
 },
 "nbformat": 4,
 "nbformat_minor": 5
}
