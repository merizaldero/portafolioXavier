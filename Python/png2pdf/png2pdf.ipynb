{
 "cells": [
  {
   "cell_type": "markdown",
   "id": "c5f57776",
   "metadata": {},
   "source": [
    "# Conversion PNGs a PDF\n",
    "Convierte archivos PNG en una carpeta a PDF.\n",
    "Los archivos son ordenados en orden alfabetico"
   ]
  },
  {
   "cell_type": "code",
   "execution_count": 6,
   "id": "738ed71d",
   "metadata": {},
   "outputs": [],
   "source": [
    "import os\n",
    "from io import BytesIO\n",
    "from PIL import Image\n",
    "from reportlab.pdfgen import canvas\n",
    "# from reportlab.lib.pages import Page\n"
   ]
  },
  {
   "cell_type": "code",
   "execution_count": 7,
   "id": "ddd73852",
   "metadata": {},
   "outputs": [],
   "source": [
    "def crear_pdf_desde_png(ruta_directorio, nombre_archivo_pdf):\n",
    "    \"\"\"\n",
    "    Crea un archivo PDF a partir de las imágenes PNG en un directorio.\n",
    "\n",
    "    Args:\n",
    "    ruta_directorio: Ruta del directorio que contiene las imágenes PNG.\n",
    "    nombre_archivo_pdf: Nombre del archivo PDF que se generará.\n",
    "\n",
    "    Retorna:\n",
    "    Ningún valor.\n",
    "    \"\"\"\n",
    "\n",
    "    # Obtener listado de archivos PNG en orden alfabético\n",
    "    archivos_png = sorted(os.listdir(ruta_directorio), key=lambda x: x.lower() if x.lower().endswith('.png') else float('inf'))\n",
    "\n",
    "    # Crear documento PDF y canvas\n",
    "    pdf = canvas.Canvas(nombre_archivo_pdf)\n",
    "\n",
    "    # Recorrer archivos PNG y agregarlos al PDF\n",
    "    pagina = 1\n",
    "    for archivo_png in archivos_png:\n",
    "        ruta_archivo = os.path.join(ruta_directorio, archivo_png)\n",
    "\n",
    "        # Abrir imagen PNG\n",
    "        imagen = Image.open(ruta_archivo)\n",
    "\n",
    "        # Ajustar tamaño de la imagen a la página\n",
    "        ancho_pagina, alto_pagina = pdf.PageSize\n",
    "        proporcion_imagen = imagen.width / imagen.height\n",
    "        ancho_imagen = min(ancho_pagina, imagen.width)\n",
    "        alto_imagen = ancho_imagen / proporcion_imagen\n",
    "\n",
    "        # Posicionar imagen en la página\n",
    "        x = (ancho_pagina - ancho_imagen) / 2\n",
    "        y = (alto_pagina - alto_imagen) / 2\n",
    "\n",
    "        # Dibujar imagen en el PDF\n",
    "        imagen_stream = BytesIO()\n",
    "        imagen.convert('RGB').save(imagen_stream, 'PNG')\n",
    "        imagen_stream.seek(0)\n",
    "        pdf.drawImage(imagen_stream, x, y, ancho_imagen, alto_imagen)\n",
    "\n",
    "        # Si la imagen es la última de la página, iniciar nueva página\n",
    "        if archivo_png == archivos_png[-1]:\n",
    "            pdf.setPageSize((ancho_pagina, alto_pagina))\n",
    "            pdf.newPage()\n",
    "        else:\n",
    "            pagina += 1\n",
    "\n",
    "    # Guardar documento PDF\n",
    "    pdf.save()\n"
   ]
  },
  {
   "cell_type": "code",
   "execution_count": null,
   "id": "46c003c3",
   "metadata": {},
   "outputs": [],
   "source": [
    "# Ejemplo de uso\n",
    "ruta_directorio = \"imagenes_png\"\n",
    "nombre_archivo_pdf = \"imagenes.pdf\"\n",
    "\n",
    "crear_pdf_desde_png(ruta_directorio, nombre_archivo_pdf)"
   ]
  }
 ],
 "metadata": {
  "kernelspec": {
   "display_name": "Python 3 (ipykernel)",
   "language": "python",
   "name": "python3"
  },
  "language_info": {
   "codemirror_mode": {
    "name": "ipython",
    "version": 3
   },
   "file_extension": ".py",
   "mimetype": "text/x-python",
   "name": "python",
   "nbconvert_exporter": "python",
   "pygments_lexer": "ipython3",
   "version": "3.10.2"
  }
 },
 "nbformat": 4,
 "nbformat_minor": 5
}
