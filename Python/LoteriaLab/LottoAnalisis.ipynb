{
 "cells": [
  {
   "cell_type": "code",
   "execution_count": 1,
   "id": "22a92dfa",
   "metadata": {},
   "outputs": [
    {
     "name": "stderr",
     "output_type": "stream",
     "text": [
      "C:\\Users\\XAVIER\\AppData\\Roaming\\Python\\Python310\\site-packages\\requests\\__init__.py:102: RequestsDependencyWarning: urllib3 (1.26.9) or chardet (5.1.0)/charset_normalizer (2.0.12) doesn't match a supported version!\n",
      "  warnings.warn(\"urllib3 ({}) or chardet ({})/charset_normalizer ({}) doesn't match a supported \"\n"
     ]
    }
   ],
   "source": [
    "# Librerias utilizadas\n",
    "\n",
    "import requests\n",
    "from PIL import Image, ImageOps,ImageFilter\n",
    "import pytesseract\n",
    "import pandas as pd\n",
    "from os.path import join, exists\n",
    "import cv2\n",
    "from matplotlib import pyplot as plt\n",
    "import re"
   ]
  },
  {
   "cell_type": "code",
   "execution_count": 2,
   "id": "893e0b9a",
   "metadata": {},
   "outputs": [
    {
     "name": "stdout",
     "output_type": "stream",
     "text": [
      "INSERT INTO SORTEOS ( ID, FECHA ) VALUES ( :id, :fecha )\n",
      "INSERT INTO PREMIADOS ( ID_SORTEO, ORDEN, PREMIADO ) VALUES ( :id_sorteo, :orden, :premiado )\n",
      "INSERT INTO PROBABILIDADES ( POSICION, DIGITO, PROBABILIDAD, RANKING ) VALUES ( :posicion, :digito, :probabilidad, :ranking )\n"
     ]
    }
   ],
   "source": [
    "import lotto"
   ]
  },
  {
   "cell_type": "code",
   "execution_count": null,
   "id": "76cfa6e0",
   "metadata": {},
   "outputs": [],
   "source": [
    "lotto.inicializar()"
   ]
  },
  {
   "cell_type": "code",
   "execution_count": null,
   "id": "e5af8f7a",
   "metadata": {},
   "outputs": [],
   "source": [
    "lotto.transaccionar(lotto.poblar_probabilidades, {})"
   ]
  },
  {
   "cell_type": "code",
   "execution_count": 3,
   "id": "995a52dc",
   "metadata": {},
   "outputs": [],
   "source": [
    "# Paths relativos\n",
    "PIC_FOLDER = 'lotto_pics'\n",
    "URL_BASE = \"https://ventas-api.loteria.com.ec/uploads/boletines/T{0}.jpg\""
   ]
  },
  {
   "cell_type": "code",
   "execution_count": 6,
   "id": "b2435e6f",
   "metadata": {},
   "outputs": [],
   "source": [
    "# Ultimo Sorteo\n",
    "ULTIMO_SORTEO = 23072"
   ]
  },
  {
   "cell_type": "code",
   "execution_count": 10,
   "id": "b9a34b8e",
   "metadata": {},
   "outputs": [
    {
     "name": "stdout",
     "output_type": "stream",
     "text": [
      "Boletin 23054 ya existe\n",
      "Boletin 23055 ya existe\n",
      "Boletin 23056 ya existe\n",
      "Boletin 23057 ya existe\n",
      "Boletin 23058 ya existe\n",
      "Boletin 23059 ya existe\n",
      "Boletin 23060 ya existe\n",
      "Boletin 23061 ya existe\n",
      "Boletin 23062 ya existe\n",
      "Boletin 23063 ya existe\n",
      "Boletin 23064 ya existe\n",
      "Boletin 23065 ya existe\n",
      "Boletin 23066 ya existe\n",
      "Boletin 23067 ya existe\n",
      "Boletin 23068 ya existe\n",
      "Boletin 23069 ya existe\n",
      "Boletin 23070 ya existe\n",
      "Boletin 23071 ya existe\n",
      "Boletin 23072 ya existe\n"
     ]
    },
    {
     "name": "stderr",
     "output_type": "stream",
     "text": [
      "C:\\Users\\XAVIER\\AppData\\Roaming\\Python\\Python310\\site-packages\\urllib3\\connectionpool.py:1043: InsecureRequestWarning: Unverified HTTPS request is being made to host 'ventas-api.loteria.com.ec'. Adding certificate verification is strongly advised. See: https://urllib3.readthedocs.io/en/1.26.x/advanced-usage.html#ssl-warnings\n",
      "  warnings.warn(\n"
     ]
    },
    {
     "name": "stdout",
     "output_type": "stream",
     "text": [
      "Boletin 23073 no esta disponible\n",
      "Secuencia finalizada\n"
     ]
    }
   ],
   "source": [
    "# Extrae ultimas Imagenes\n",
    "sorteo = lotto.find_ultimo_sorteo()[0] + 1\n",
    "while True:\n",
    "    path_archivo = join(PIC_FOLDER,\"{0}.jpg\".format(sorteo))\n",
    "    if exists(path_archivo):\n",
    "        print('Boletin {0} ya existe'.format(sorteo))\n",
    "        sorteo += 1\n",
    "        continue\n",
    "    respuesta = requests.get(URL_BASE.format(sorteo), verify = False)\n",
    "    if respuesta.status_code != 200:        \n",
    "        respuesta.close()\n",
    "        print('Boletin {0} no esta disponible'.format(sorteo))\n",
    "        break\n",
    "    archivo = open( path_archivo, \"wb\" )\n",
    "    archivo.write(respuesta.content)\n",
    "    archivo.close()\n",
    "    print('Boletin {0} extraido'.format(sorteo))\n",
    "    sorteo += 1\n",
    "print('Secuencia finalizada')"
   ]
  },
  {
   "cell_type": "code",
   "execution_count": 12,
   "id": "e69c84f4",
   "metadata": {},
   "outputs": [],
   "source": [
    "def  extraer_numeros_loteria(numero_sorteo, path_archivo, umbral = 242, mostrar_imagen=False, solo_numeros_loteria = True):\n",
    "    imagen = cv2.imread(path_archivo, cv2.IMREAD_GRAYSCALE)\n",
    "    imagen_umbralizada = imagen\n",
    "    ret, imagen_umbralizada = cv2.threshold(imagen, umbral, 255, cv2.THRESH_BINARY)    \n",
    "    tamano = imagen_umbralizada.shape[:2]\n",
    "    imagen_umbralizada = imagen_umbralizada[ : int(tamano[0] * 0.55) ,  :  ]\n",
    "    \n",
    "    hallazgos = pytesseract.image_to_string( imagen_umbralizada ).split()\n",
    "    expresion_num_loteria = re.compile(r'^\\d{6}$')\n",
    "    if solo_numeros_loteria:\n",
    "        hallazgos = [ x for x in hallazgos if expresion_num_loteria.match(x) ]\n",
    "    hallazgos1 = []\n",
    "    sorteo = {'id': numero_sorteo, 'fecha': ''}\n",
    "    lotto.transaccionar(lotto.crear_sorteo, sorteo)\n",
    "    orden = 1\n",
    "    for h in hallazgos:\n",
    "        if h not in hallazgos1:\n",
    "            premiado = {'id_sorteo': numero_sorteo, 'orden':orden, 'premiado': h}\n",
    "            lotto.transaccionar(lotto.crear_premiado, premiado)\n",
    "            hallazgos1.append(h)\n",
    "            orden += 1\n",
    "    if mostrar_imagen:\n",
    "        print(imagen_umbralizada.shape)\n",
    "        plt.figure(figsize=(10,10))\n",
    "        plt.imshow(cv2.cvtColor(imagen_umbralizada, cv2.COLOR_GRAY2BGR))\n",
    "        plt.show()\n",
    "        plt.close()\n",
    "    \n",
    "    return hallazgos1\n"
   ]
  },
  {
   "cell_type": "code",
   "execution_count": 13,
   "id": "bf8cb25d",
   "metadata": {},
   "outputs": [
    {
     "name": "stdout",
     "output_type": "stream",
     "text": [
      "23054,268061,661235,133603,847714,999074,111268,164034,449917,946394\n",
      "23055,479494,223728,262276,242367,534717,027744,159994\n",
      "23056,468643,999349,960272,330530,598303,476183,429906,935555,540096,228861,683755\n",
      "23057,257023,983926,197492,885619,471383,813185,483045,593018,782294,038825,934393\n",
      "23058,\n",
      "23059,688732,214921,559971,028439,230816,381452,142006,335930,591044,845591,546657\n",
      "23060,229858,787966,147692,178952,195426,778990,221154,307550,596918,152971,002531\n",
      "23061,138839,498149,572565,899941,193043,433871,395743,851171,352397,286384,283880\n",
      "23062,699937,453448,201991,547754,624832,550237,717800,307239,548260\n",
      "23063,488244,068128,517757,022430,790347,772345,068654,169736,812928\n",
      "23064,183195,426845,472025,959985,565477,846075,763728,886446,165677,885170\n",
      "23065,164197,634848,046728,066827,571033,750659,964958,211955,569951,795163\n",
      "23066,010884,877161,092694,458794,940394,352713,654212,156955,144343,565597,959367\n",
      "23067,616806,604203,208350,693485,133206,561719,579261,721501,869682,918906\n",
      "23068,364979,791178,245175,295968,338627,976721,741273,508100,638064,917163,834338,410615,561987,492379,011746,679596\n",
      "23069,363779,540848,403759,433505,294971,951799,612029,502852,833322,518418\n",
      "23070,898223,646298,438567,988046,207084,182682,679919,287689,277893\n",
      "23071,955776,779254,579036,040241,088113,665300,755547,405936,151284,109486,954886,260907,875864,765400,037980,873024\n",
      "23072,588036,540441,084816,460218,658163,753213,322078,006298,788426,950222\n",
      "info para sorteo 23073 no disponible\n",
      "Secuencia terminada\n"
     ]
    }
   ],
   "source": [
    "# Persiste los sorteos desde imagenes\n",
    "\n",
    "sorteo = lotto.find_ultimo_sorteo()[0] + 1\n",
    "umbrales = [242,128,64]\n",
    "while True:\n",
    "    path_archivo = join(PIC_FOLDER,\"{0}.jpg\".format(sorteo))\n",
    "    if not exists(path_archivo):\n",
    "        print(\"info para sorteo {0} no disponible\".format(sorteo))\n",
    "        break\n",
    "    lotto.find_ultimo_sorteo()\n",
    "    numeros_encontrados = []\n",
    "    for umbral in umbrales:\n",
    "        numeros_encontrados1 = extraer_numeros_loteria ( sorteo, path_archivo , umbral= 242 )\n",
    "        if len(numeros_encontrados1) > len(numeros_encontrados):\n",
    "            numeros_encontrados = numeros_encontrados1\n",
    "    linea = \"{0},{1}\".format(sorteo,','.join(numeros_encontrados))\n",
    "    # archivo = open(path_data,'at')\n",
    "    # print(linea, file=archivo)\n",
    "    print(linea)\n",
    "    # archivo.close()\n",
    "    sorteo += 1\n",
    "print(\"Secuencia terminada\")"
   ]
  },
  {
   "cell_type": "code",
   "execution_count": 14,
   "id": "f28ee657",
   "metadata": {},
   "outputs": [],
   "source": [
    "lotto.calcular_probabilidades()"
   ]
  },
  {
   "cell_type": "code",
   "execution_count": 15,
   "id": "73bf0958",
   "metadata": {},
   "outputs": [
    {
     "data": {
      "text/plain": [
       "['warning', 'warning', 'danger', 'success', 'success', 'success']"
      ]
     },
     "execution_count": 15,
     "metadata": {},
     "output_type": "execute_result"
    }
   ],
   "source": [
    "lotto.mostrar_probabilidad('000000')"
   ]
  },
  {
   "cell_type": "code",
   "execution_count": null,
   "id": "8b51030d",
   "metadata": {},
   "outputs": [],
   "source": [
    "archivo.close()"
   ]
  },
  {
   "cell_type": "code",
   "execution_count": null,
   "id": "603d46e5",
   "metadata": {},
   "outputs": [],
   "source": [
    "# Se cara sorteos como dataframe\n",
    "from nltk.probability import FreqDist\n",
    "\n",
    "path_data = \"salida.txt\"\n",
    "sorteos = []\n",
    "with open(path_data, 'rt') as archivo:    \n",
    "    for linea in archivo:\n",
    "        arreglo_linea = linea[:-1].split(',')\n",
    "        tamano_arreglo = len(arreglo_linea) - 1\n",
    "        if tamano_arreglo < 2:\n",
    "            continue\n",
    "        favorecidos = arreglo_linea[1:]\n",
    "        print(favorecidos)\n",
    "        digitos = [ [x[pos] for x in favorecidos ] for pos in range(0,6) ]\n",
    "        distribuciones = [ str(dict(FreqDist(pos))) for pos in digitos ]\n",
    "        registro = {'SORTEO': int(arreglo_linea[0]) , 'FAVORECIDOS': ','.join(favorecidos), 'CONTEO FAVORECIDOS': tamano_arreglo }\n",
    "        for dpos in range(0,6):\n",
    "            registro['D{0}'.format(dpos+1)] = distribuciones[dpos]\n",
    "        sorteos.append(registro)\n",
    "\n",
    "sorteos = pd.DataFrame(sorteos)\n",
    "sorteos\n"
   ]
  },
  {
   "cell_type": "code",
   "execution_count": null,
   "id": "96e26002",
   "metadata": {},
   "outputs": [],
   "source": [
    "# Conteo de Sorteos por conteo favorecidos\\\n",
    "sorteos[['SORTEO','CONTEO FAVORECIDOS']].groupby(['CONTEO FAVORECIDOS']).count()"
   ]
  },
  {
   "cell_type": "code",
   "execution_count": null,
   "id": "9fc60014",
   "metadata": {},
   "outputs": [],
   "source": [
    "sorteos.loc[sorteos['CONTEO FAVORECIDOS'] == 17]"
   ]
  },
  {
   "cell_type": "code",
   "execution_count": null,
   "id": "1039524d",
   "metadata": {},
   "outputs": [],
   "source": [
    "from nltk.probability import FreqDist\n",
    "\n",
    "linea = '22895,906085,124822,981826,998854,347723,777305,553624,774288,903696,127377,375818,936178,787748,156995,472867,275541'\n",
    "arreglo_linea = linea.split(',')\n",
    "tamano_arreglo = len(arreglo_linea) - 1\n",
    "favorecidos = arreglo_linea[1:]\n",
    "digitos = [ [x[pos] for x in favorecidos ] for pos in range(0,6) ]\n",
    "distribuciones = [ str(dict(FreqDist(pos))) for pos in digitos ]\n",
    "distribuciones"
   ]
  },
  {
   "cell_type": "code",
   "execution_count": null,
   "id": "ab5cb8ed",
   "metadata": {},
   "outputs": [],
   "source": [
    "#import nltk\n",
    "#nltk.download('stopwords')\n",
    "\n",
    "from pyresparser import ResumeParser\n",
    "\n",
    "data = ResumeParser('C:\\\\Users\\\\XAVIER\\\\Documents\\\\RESUME-Marcelo Merizalde.pdf').get_extracted_data()"
   ]
  },
  {
   "cell_type": "code",
   "execution_count": null,
   "id": "fef2d27e",
   "metadata": {},
   "outputs": [],
   "source": [
    "# Persistiendo \n",
    "chr(65)"
   ]
  },
  {
   "cell_type": "code",
   "execution_count": null,
   "id": "a03bbe66",
   "metadata": {},
   "outputs": [],
   "source": []
  }
 ],
 "metadata": {
  "kernelspec": {
   "display_name": "Python 3 (ipykernel)",
   "language": "python",
   "name": "python3"
  },
  "language_info": {
   "codemirror_mode": {
    "name": "ipython",
    "version": 3
   },
   "file_extension": ".py",
   "mimetype": "text/x-python",
   "name": "python",
   "nbconvert_exporter": "python",
   "pygments_lexer": "ipython3",
   "version": "3.10.2"
  }
 },
 "nbformat": 4,
 "nbformat_minor": 5
}
