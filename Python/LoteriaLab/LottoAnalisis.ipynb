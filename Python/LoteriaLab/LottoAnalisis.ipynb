{
 "cells": [
  {
   "cell_type": "code",
   "execution_count": null,
   "id": "22a92dfa",
   "metadata": {},
   "outputs": [],
   "source": [
    "# Librerias utilizadas\n",
    "\n",
    "import requests\n",
    "from PIL import Image, ImageOps,ImageFilter\n",
    "import pytesseract\n",
    "import pandas as pd\n",
    "from os.path import join, exists\n",
    "import cv2\n",
    "from matplotlib import pyplot as plt\n",
    "import re"
   ]
  },
  {
   "cell_type": "code",
   "execution_count": 1,
   "id": "893e0b9a",
   "metadata": {},
   "outputs": [
    {
     "name": "stdout",
     "output_type": "stream",
     "text": [
      "INSERT INTO SORTEOS ( ID, FECHA ) VALUES ( :id, :fecha )\n",
      "INSERT INTO PREMIADOS ( ID_SORTEO, ORDEN, PREMIADO ) VALUES ( :id_sorteo, :orden, :premiado )\n",
      "INSERT INTO PROBABILIDADES ( POSICION, DIGITO, PROBABILIDAD, RANKING ) VALUES ( :posicion, :digito, :probabilidad, :ranking )\n"
     ]
    }
   ],
   "source": [
    "import lotto"
   ]
  },
  {
   "cell_type": "code",
   "execution_count": null,
   "id": "76cfa6e0",
   "metadata": {},
   "outputs": [],
   "source": [
    "lotto.inicializar()"
   ]
  },
  {
   "cell_type": "code",
   "execution_count": null,
   "id": "e5af8f7a",
   "metadata": {},
   "outputs": [],
   "source": [
    "lotto.transaccionar(lotto.poblar_probabilidades, {})"
   ]
  },
  {
   "cell_type": "code",
   "execution_count": null,
   "id": "995a52dc",
   "metadata": {},
   "outputs": [],
   "source": [
    "# Paths relativos\n",
    "PIC_FOLDER = 'lotto_pics'\n",
    "URL_BASE = \"https://ventas-api.loteria.com.ec/uploads/boletines/T{0}.jpg\""
   ]
  },
  {
   "cell_type": "code",
   "execution_count": null,
   "id": "b2435e6f",
   "metadata": {},
   "outputs": [],
   "source": [
    "# Ultimo Sorteo\n",
    "ULTIMO_SORTEO = 23053"
   ]
  },
  {
   "cell_type": "code",
   "execution_count": null,
   "id": "b9a34b8e",
   "metadata": {},
   "outputs": [],
   "source": [
    "# Extrae ultimas Imagenes\n",
    "sorteo = ULTIMO_SORTEO\n",
    "while True:\n",
    "    path_archivo = join(PIC_FOLDER,\"{0}.jpg\".format(sorteo))\n",
    "    if exists(path_archivo):\n",
    "        print('Boletin {0} ya existe'.format(sorteo))\n",
    "        break\n",
    "    respuesta = requests.get(URL_BASE.format(sorteo), verify = False)\n",
    "    if respuesta.status_code != 200:        \n",
    "        respuesta.close()\n",
    "        print('Boletin {0} ya no esta disponible'.format(sorteo))\n",
    "        break\n",
    "    archivo = open( path_archivo, \"wb\" )\n",
    "    archivo.write(respuesta.content)\n",
    "    archivo.close()\n",
    "    print('Boletin {0} extraido'.format(sorteo))\n",
    "    sorteo -= 1\n",
    "print('Secuencia finalizada')"
   ]
  },
  {
   "cell_type": "code",
   "execution_count": null,
   "id": "e69c84f4",
   "metadata": {},
   "outputs": [],
   "source": [
    "def  extraer_numeros_loteria(numero_sorteo, path_archivo, umbral = 242, mostrar_imagen=False, solo_numeros_loteria = True):\n",
    "    imagen = cv2.imread(path_archivo, cv2.IMREAD_GRAYSCALE)\n",
    "    imagen_umbralizada = imagen\n",
    "    ret, imagen_umbralizada = cv2.threshold(imagen, umbral, 255, cv2.THRESH_BINARY)    \n",
    "    tamano = imagen_umbralizada.shape[:2]\n",
    "    imagen_umbralizada = imagen_umbralizada[ : int(tamano[0] * 0.55) ,  :  ]\n",
    "    \n",
    "    hallazgos = pytesseract.image_to_string( imagen_umbralizada ).split()\n",
    "    expresion_num_loteria = re.compile(r'^\\d{6}$')\n",
    "    if solo_numeros_loteria:\n",
    "        hallazgos = [ x for x in hallazgos if expresion_num_loteria.match(x) ]\n",
    "    hallazgos1 = []\n",
    "    sorteo = {'id': numero_sorteo, 'fecha': ''}\n",
    "    lotto.transaccionar(lotto.crear_sorteo, sorteo)\n",
    "    orden = 1\n",
    "    for h in hallazgos:\n",
    "        if h not in hallazgos1:\n",
    "            premiado = {'id_sorteo': numero_sorteo, 'orden':orden, 'premiado': h}\n",
    "            lotto.transaccionar(lotto.crear_premiado, premiado)\n",
    "            hallazgos1.append(h)\n",
    "            orden += 1\n",
    "    if mostrar_imagen:\n",
    "        print(imagen_umbralizada.shape)\n",
    "        plt.figure(figsize=(10,10))\n",
    "        plt.imshow(cv2.cvtColor(imagen_umbralizada, cv2.COLOR_GRAY2BGR))\n",
    "        plt.show()\n",
    "        plt.close()\n",
    "    \n",
    "    return hallazgos1\n"
   ]
  },
  {
   "cell_type": "code",
   "execution_count": null,
   "id": "bf8cb25d",
   "metadata": {},
   "outputs": [],
   "source": [
    "# Persiste los sorteos desde imagenes\n",
    "\n",
    "sorteo = ULTIMO_SORTEO\n",
    "umbrales = [242,128,64]\n",
    "while True:\n",
    "    path_archivo = join(PIC_FOLDER,\"{0}.jpg\".format(sorteo))\n",
    "    if not exists(path_archivo):\n",
    "        print(\"info para sorteo {0} no disponible\".format(sorteo))\n",
    "        break\n",
    "    numeros_encontrados = []\n",
    "    for umbral in umbrales:\n",
    "        numeros_encontrados1 = extraer_numeros_loteria ( sorteo, path_archivo , umbral= 242 )\n",
    "        if len(numeros_encontrados1) > len(numeros_encontrados):\n",
    "            numeros_encontrados = numeros_encontrados1\n",
    "    linea = \"{0},{1}\".format(sorteo,','.join(numeros_encontrados))\n",
    "    # archivo = open(path_data,'at')\n",
    "    # print(linea, file=archivo)\n",
    "    print(linea)\n",
    "    # archivo.close()\n",
    "    sorteo -= 1\n",
    "print(\"Secuencia terminada\")"
   ]
  },
  {
   "cell_type": "code",
   "execution_count": 2,
   "id": "f28ee657",
   "metadata": {},
   "outputs": [],
   "source": [
    "lotto.calcular_probabilidades()"
   ]
  },
  {
   "cell_type": "code",
   "execution_count": 3,
   "id": "73bf0958",
   "metadata": {},
   "outputs": [
    {
     "data": {
      "text/plain": [
       "['danger', 'success', 'danger', 'success', 'success', 'success']"
      ]
     },
     "execution_count": 3,
     "metadata": {},
     "output_type": "execute_result"
    }
   ],
   "source": [
    "lotto.mostrar_probabilidad('000000')"
   ]
  },
  {
   "cell_type": "code",
   "execution_count": null,
   "id": "8b51030d",
   "metadata": {},
   "outputs": [],
   "source": [
    "archivo.close()"
   ]
  },
  {
   "cell_type": "code",
   "execution_count": null,
   "id": "603d46e5",
   "metadata": {},
   "outputs": [],
   "source": [
    "# Se cara sorteos como dataframe\n",
    "from nltk.probability import FreqDist\n",
    "\n",
    "path_data = \"salida.txt\"\n",
    "sorteos = []\n",
    "with open(path_data, 'rt') as archivo:    \n",
    "    for linea in archivo:\n",
    "        arreglo_linea = linea[:-1].split(',')\n",
    "        tamano_arreglo = len(arreglo_linea) - 1\n",
    "        if tamano_arreglo < 2:\n",
    "            continue\n",
    "        favorecidos = arreglo_linea[1:]\n",
    "        print(favorecidos)\n",
    "        digitos = [ [x[pos] for x in favorecidos ] for pos in range(0,6) ]\n",
    "        distribuciones = [ str(dict(FreqDist(pos))) for pos in digitos ]\n",
    "        registro = {'SORTEO': int(arreglo_linea[0]) , 'FAVORECIDOS': ','.join(favorecidos), 'CONTEO FAVORECIDOS': tamano_arreglo }\n",
    "        for dpos in range(0,6):\n",
    "            registro['D{0}'.format(dpos+1)] = distribuciones[dpos]\n",
    "        sorteos.append(registro)\n",
    "\n",
    "sorteos = pd.DataFrame(sorteos)\n",
    "sorteos\n"
   ]
  },
  {
   "cell_type": "code",
   "execution_count": null,
   "id": "96e26002",
   "metadata": {},
   "outputs": [],
   "source": [
    "# Conteo de Sorteos por conteo favorecidos\\\n",
    "sorteos[['SORTEO','CONTEO FAVORECIDOS']].groupby(['CONTEO FAVORECIDOS']).count()"
   ]
  },
  {
   "cell_type": "code",
   "execution_count": null,
   "id": "9fc60014",
   "metadata": {},
   "outputs": [],
   "source": [
    "sorteos.loc[sorteos['CONTEO FAVORECIDOS'] == 17]"
   ]
  },
  {
   "cell_type": "code",
   "execution_count": null,
   "id": "1039524d",
   "metadata": {},
   "outputs": [],
   "source": [
    "from nltk.probability import FreqDist\n",
    "\n",
    "linea = '22895,906085,124822,981826,998854,347723,777305,553624,774288,903696,127377,375818,936178,787748,156995,472867,275541'\n",
    "arreglo_linea = linea.split(',')\n",
    "tamano_arreglo = len(arreglo_linea) - 1\n",
    "favorecidos = arreglo_linea[1:]\n",
    "digitos = [ [x[pos] for x in favorecidos ] for pos in range(0,6) ]\n",
    "distribuciones = [ str(dict(FreqDist(pos))) for pos in digitos ]\n",
    "distribuciones"
   ]
  },
  {
   "cell_type": "code",
   "execution_count": null,
   "id": "ab5cb8ed",
   "metadata": {},
   "outputs": [],
   "source": [
    "#import nltk\n",
    "#nltk.download('stopwords')\n",
    "\n",
    "from pyresparser import ResumeParser\n",
    "\n",
    "data = ResumeParser('C:\\\\Users\\\\XAVIER\\\\Documents\\\\RESUME-Marcelo Merizalde.pdf').get_extracted_data()"
   ]
  },
  {
   "cell_type": "code",
   "execution_count": null,
   "id": "fef2d27e",
   "metadata": {},
   "outputs": [],
   "source": [
    "# Persistiendo \n",
    "chr(65)"
   ]
  },
  {
   "cell_type": "code",
   "execution_count": null,
   "id": "a03bbe66",
   "metadata": {},
   "outputs": [],
   "source": []
  }
 ],
 "metadata": {
  "kernelspec": {
   "display_name": "Python 3 (ipykernel)",
   "language": "python",
   "name": "python3"
  },
  "language_info": {
   "codemirror_mode": {
    "name": "ipython",
    "version": 3
   },
   "file_extension": ".py",
   "mimetype": "text/x-python",
   "name": "python",
   "nbconvert_exporter": "python",
   "pygments_lexer": "ipython3",
   "version": "3.10.2"
  }
 },
 "nbformat": 4,
 "nbformat_minor": 5
}
